{
 "cells": [
  {
   "cell_type": "code",
   "execution_count": 5,
   "metadata": {},
   "outputs": [],
   "source": [
    "import pickle\n",
    "import pandas as pd\n",
    "import sys\n",
    "sys.path.insert(0, './../preprocessing')\n",
    "import session as ss"
   ]
  },
  {
   "cell_type": "code",
   "execution_count": 22,
   "metadata": {},
   "outputs": [],
   "source": [
    "def load_data():\n",
    "    t = pickle.load( open( \"./../data_set.p\", \"rb\" ) )\n",
    "    #t = t[t['action_cleaned'] != 'click_on_other']\n",
    "    #t = ss.define_session(t)\n",
    "    return t"
   ]
  },
  {
   "cell_type": "code",
   "execution_count": 23,
   "metadata": {},
   "outputs": [],
   "source": [
    "df  = load_data()"
   ]
  },
  {
   "cell_type": "code",
   "execution_count": 24,
   "metadata": {},
   "outputs": [
    {
     "data": {
      "text/plain": [
       "214"
      ]
     },
     "execution_count": 24,
     "metadata": {},
     "output_type": "execute_result"
    }
   ],
   "source": [
    "action_cleaned_set = set(df['action_cleaned'])\n",
    "len(action_cleaned_set)"
   ]
  },
  {
   "cell_type": "code",
   "execution_count": 25,
   "metadata": {},
   "outputs": [
    {
     "data": {
      "text/plain": [
       "{'GDPR_related_click',\n",
       " 'account_reference',\n",
       " 'activate_new',\n",
       " 'activate_sim',\n",
       " 'add_new_agreement',\n",
       " 'adding_additional_services',\n",
       " 'change_language',\n",
       " 'click_add_account',\n",
       " 'click_log_out',\n",
       " 'click_new_subscription_from_scratch',\n",
       " 'click_new_subscription_from_template',\n",
       " 'click_next_in_subscr_order',\n",
       " 'click_on_APIs',\n",
       " 'click_on_MBN_sub',\n",
       " 'click_on_abroad',\n",
       " 'click_on_accept_continue',\n",
       " 'click_on_account',\n",
       " 'click_on_activate',\n",
       " 'click_on_activated',\n",
       " 'click_on_active_cloud_services',\n",
       " 'click_on_active_users',\n",
       " 'click_on_add',\n",
       " 'click_on_add_dealer',\n",
       " 'click_on_add_post_code',\n",
       " 'click_on_address',\n",
       " 'click_on_administrators',\n",
       " 'click_on_advanced_reports',\n",
       " 'click_on_agreement_detail',\n",
       " 'click_on_agreements',\n",
       " 'click_on_arrow',\n",
       " 'click_on_bedrift_sub',\n",
       " 'click_on_billed',\n",
       " 'click_on_billing_information',\n",
       " 'click_on_campaign_details',\n",
       " 'click_on_campaigns',\n",
       " 'click_on_cancel',\n",
       " 'click_on_change',\n",
       " 'click_on_change_account',\n",
       " 'click_on_change_account_reference',\n",
       " 'click_on_change_invoice_ref',\n",
       " 'click_on_change_sub',\n",
       " 'click_on_change_user_on_sub',\n",
       " 'click_on_check_out',\n",
       " 'click_on_choose_in_subscr_order',\n",
       " 'click_on_cloud',\n",
       " 'click_on_cloud_product',\n",
       " 'click_on_companies_with_product',\n",
       " 'click_on_company',\n",
       " 'click_on_configure',\n",
       " 'click_on_confirm',\n",
       " 'click_on_contact_us',\n",
       " 'click_on_copy',\n",
       " 'click_on_crown',\n",
       " 'click_on_data',\n",
       " 'click_on_datacard',\n",
       " 'click_on_dealer_list',\n",
       " 'click_on_dealers',\n",
       " 'click_on_did_you_notice_new_login',\n",
       " 'click_on_discount_consumption_inland',\n",
       " 'click_on_edit_field',\n",
       " 'click_on_enhet_details',\n",
       " 'click_on_equipment_change',\n",
       " 'click_on_error_details',\n",
       " 'click_on_expand',\n",
       " 'click_on_external',\n",
       " 'click_on_failed_to_retrieve_data',\n",
       " 'click_on_feedback',\n",
       " 'click_on_filter',\n",
       " 'click_on_find_PUK',\n",
       " 'click_on_find_person',\n",
       " 'click_on_fixed',\n",
       " 'click_on_fusion',\n",
       " 'click_on_get_report',\n",
       " 'click_on_give_access',\n",
       " 'click_on_give_read_access',\n",
       " 'click_on_give_the_same_access',\n",
       " 'click_on_guidelines',\n",
       " 'click_on_homepage',\n",
       " 'click_on_inbox',\n",
       " 'click_on_information',\n",
       " 'click_on_installed_in',\n",
       " 'click_on_invoice_by_email',\n",
       " 'click_on_last_used',\n",
       " 'click_on_list',\n",
       " 'click_on_locations_of subscriptions',\n",
       " 'click_on_lock',\n",
       " 'click_on_locked',\n",
       " 'click_on_m2m',\n",
       " 'click_on_magic_link',\n",
       " 'click_on_manage_subscriptions',\n",
       " 'click_on_map',\n",
       " 'click_on_mbn_details',\n",
       " 'click_on_mbnaktiv',\n",
       " 'click_on_menu',\n",
       " 'click_on_menu_accounts',\n",
       " 'click_on_menu_locations',\n",
       " 'click_on_menu_sim_cards',\n",
       " 'click_on_menu_subscriptions',\n",
       " 'click_on_mobil',\n",
       " 'click_on_mobile_sub',\n",
       " 'click_on_mobilnummer',\n",
       " 'click_on_name',\n",
       " 'click_on_navicon',\n",
       " 'click_on_new_invoice_account',\n",
       " 'click_on_new_report',\n",
       " 'click_on_new_settings',\n",
       " 'click_on_new_subscription',\n",
       " 'click_on_no_access',\n",
       " 'click_on_no_data_incl',\n",
       " 'click_on_not_relevant',\n",
       " 'click_on_notifications',\n",
       " 'click_on_number_details',\n",
       " 'click_on_order_new_cloud_service',\n",
       " 'click_on_order_overview',\n",
       " 'click_on_ordercase',\n",
       " 'click_on_other',\n",
       " 'click_on_other_change',\n",
       " 'click_on_overall',\n",
       " 'click_on_ownership',\n",
       " 'click_on_pages_details',\n",
       " 'click_on_paid',\n",
       " 'click_on_paper_invoice',\n",
       " 'click_on_path',\n",
       " 'click_on_pause',\n",
       " 'click_on_personal_users',\n",
       " 'click_on_plus',\n",
       " 'click_on_pointer',\n",
       " 'click_on_price',\n",
       " 'click_on_question',\n",
       " 'click_on_recommendations',\n",
       " 'click_on_reference',\n",
       " 'click_on_refresh',\n",
       " 'click_on_remove',\n",
       " 'click_on_remove_access',\n",
       " 'click_on_role_department',\n",
       " 'click_on_safety_products',\n",
       " 'click_on_save',\n",
       " 'click_on_see_dismissed',\n",
       " 'click_on_see_history',\n",
       " 'click_on_select',\n",
       " 'click_on_self_owner',\n",
       " 'click_on_send',\n",
       " 'click_on_send_entry_code',\n",
       " 'click_on_send_order_status_to_email',\n",
       " 'click_on_show_all',\n",
       " 'click_on_sim_card',\n",
       " 'click_on_sim_card_details',\n",
       " 'click_on_sim_number_details',\n",
       " 'click_on_sms',\n",
       " 'click_on_speach',\n",
       " 'click_on_star',\n",
       " 'click_on_stocking',\n",
       " 'click_on_sub_voice_data',\n",
       " 'click_on_subscription',\n",
       " 'click_on_subscription_detail',\n",
       " 'click_on_subscription_type',\n",
       " 'click_on_surf_datapakke',\n",
       " 'click_on_telenor',\n",
       " 'click_on_terminate',\n",
       " 'click_on_terms_and_conditions',\n",
       " 'click_on_time_range',\n",
       " 'click_on_trash',\n",
       " 'click_on_twin_sim',\n",
       " 'click_on_unknown',\n",
       " 'click_on_unpaid_invoices',\n",
       " 'click_on_update',\n",
       " 'click_on_use_existing',\n",
       " 'click_on_user',\n",
       " 'click_on_user_details',\n",
       " 'click_on_user_references',\n",
       " 'click_on_user_type',\n",
       " 'click_on_verify_code',\n",
       " 'click_whether_you_can_get_fiber',\n",
       " 'empty_subselect_ignore',\n",
       " 'explore_additional_services',\n",
       " 'export_to_excel',\n",
       " 'go_back_to_homepage',\n",
       " 'go_back_to_top',\n",
       " 'interact_with_pop_up_window',\n",
       " 'interrupt_task',\n",
       " 'load_homepage',\n",
       " 'load_other_page',\n",
       " 'loading subscriptions',\n",
       " 'open_invoice_account',\n",
       " 'order_invoice_copy',\n",
       " 'order_overview_check_cancelled_subs',\n",
       " 'order_overview_check_change_account',\n",
       " 'order_overview_check_change_sub',\n",
       " 'order_overview_check_completed_orders',\n",
       " 'order_overview_check_locked_subs',\n",
       " 'order_overview_check_orders_in_process',\n",
       " 'order_overview_check_other_orders',\n",
       " 'order_overview_check_port_ins',\n",
       " 'order_overview_check_single_orders',\n",
       " 'return_product',\n",
       " 'scroll_on_accounts_page',\n",
       " 'scroll_on_fakturakontroll',\n",
       " 'scroll_on_homepage',\n",
       " 'scroll_on_messages_page',\n",
       " 'scroll_on_page_costs',\n",
       " 'scroll_on_page_downloads',\n",
       " 'scroll_on_reports_page',\n",
       " 'scroll_on_simcards',\n",
       " 'search',\n",
       " 'see_agreements',\n",
       " 'see_invoice',\n",
       " 'select_binding',\n",
       " 'select_no_binding',\n",
       " 'select_on_discounted_product',\n",
       " 'select_on_no_reference',\n",
       " 'send_sms_to_employees',\n",
       " 'start_chat',\n",
       " 'submit_order',\n",
       " 'warnings_product'}"
      ]
     },
     "execution_count": 25,
     "metadata": {},
     "output_type": "execute_result"
    }
   ],
   "source": [
    "action_cleaned_set"
   ]
  },
  {
   "cell_type": "code",
   "execution_count": 26,
   "metadata": {},
   "outputs": [
    {
     "data": {
      "text/plain": [
       "312950"
      ]
     },
     "execution_count": 26,
     "metadata": {},
     "output_type": "execute_result"
    }
   ],
   "source": [
    "original_action_set = set(df['action'])\n",
    "len(original_action_set)"
   ]
  },
  {
   "cell_type": "code",
   "execution_count": 27,
   "metadata": {},
   "outputs": [
    {
     "data": {
      "text/plain": [
       "0.9673049025726371"
      ]
     },
     "execution_count": 27,
     "metadata": {},
     "output_type": "execute_result"
    }
   ],
   "source": [
    "df[(df['action_cleaned']!='click_on_other')].shape[0]/df.shape[0]"
   ]
  },
  {
   "cell_type": "code",
   "execution_count": null,
   "metadata": {},
   "outputs": [],
   "source": []
  }
 ],
 "metadata": {
  "kernelspec": {
   "display_name": "Python 3",
   "language": "python",
   "name": "python3"
  },
  "language_info": {
   "codemirror_mode": {
    "name": "ipython",
    "version": 3
   },
   "file_extension": ".py",
   "mimetype": "text/x-python",
   "name": "python",
   "nbconvert_exporter": "python",
   "pygments_lexer": "ipython3",
   "version": "3.6.8"
  }
 },
 "nbformat": 4,
 "nbformat_minor": 2
}
