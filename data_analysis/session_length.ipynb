{
 "cells": [
  {
   "cell_type": "code",
   "execution_count": 1,
   "metadata": {},
   "outputs": [],
   "source": [
    "from datetime import datetime as dt\n",
    "import uuid \n",
    "import numpy as np\n",
    "import matplotlib.pyplot as plt\n",
    "import pandas as pd\n",
    "import seaborn as sns"
   ]
  },
  {
   "cell_type": "code",
   "execution_count": 2,
   "metadata": {},
   "outputs": [],
   "source": [
    "in_path = './../../../'\n",
    "dataset = pd.read_csv(\n",
    "    in_path+'splunk_data_180918_telenor_processed.txt',  \n",
    "    encoding=\"ISO-8859-1\", \n",
    "    dtype={\n",
    "        \"user_id\": int, \n",
    "        \"visit_id\": int, \n",
    "        \"sequence\": int, \n",
    "        \"start_time\":object, \n",
    "        \"event_duration\":float,\n",
    "        \"url\":str, \n",
    "        \"action\":str, \n",
    "        \"country\":str,\n",
    "        \"user_client\":str,\n",
    "        \"user_client_family\":str,\n",
    "        \"user_experience\":str,\n",
    "        \"user_os\":str,\n",
    "        \"apdex_user_experience\":str,\n",
    "        \"bounce_rate\":float,\n",
    "        \"session_duration\":float\n",
    "    }\n",
    ")\n"
   ]
  },
  {
   "cell_type": "code",
   "execution_count": 3,
   "metadata": {},
   "outputs": [],
   "source": [
    "t = dataset\n",
    "t.columns = t.columns.str.replace('min_bedrift_event.','')\n",
    "t = t[~t.action.isnull()]\n",
    "\n",
    "# drop NaN actions or urls\n",
    "t = t.dropna(axis='rows', how='any',subset=['url', 'action'])\n",
    "#t = t.reset_index()"
   ]
  },
  {
   "cell_type": "code",
   "execution_count": 4,
   "metadata": {},
   "outputs": [
    {
     "data": {
      "text/plain": [
       "3605250"
      ]
     },
     "execution_count": 4,
     "metadata": {},
     "output_type": "execute_result"
    }
   ],
   "source": [
    "len(t.index)"
   ]
  },
  {
   "cell_type": "code",
   "execution_count": 5,
   "metadata": {},
   "outputs": [],
   "source": [
    " # define time variables\n",
    "# define time variables\n",
    "t['start_time'] = t['start_time'].apply(lambda x: dt.strptime(str(x), \"%Y-%m-%d %H:%M:%S:%f\"))\n",
    "t['start_time'] = t['start_time'].apply(lambda x: x.replace(microsecond=0))\n",
    "\n",
    "t['date'] = t['start_time'].dt.date\n",
    "t['hour'] = t['start_time'].dt.hour\n",
    "t['DOW'] = t['start_time'].dt.dayofweek\n",
    "\n",
    "# create new session_id based on load = \"new browser session\"\n",
    "# visit_id is not a good measure, since people remain logged in for 1 hour. This was previously 2 hours.\n",
    "# in the App, people remain logged in for 11 months, so visit_ids could carry on for a long time\n",
    "# Advice: I would define a session based on inactivity. Create new session after 30 minutes inactivity\n",
    "t.sort_values(['visit_id', 'start_time'], inplace=True)\n",
    "\n",
    "t['lag_ts'] = t.sort_values(['visit_id','start_time']).groupby('visit_id')['start_time'].shift(1)\n",
    "#t['lag_ts'].fillna(t['start_time'],inplace=True) # for the first event in session\n",
    "t['inactivity'] = (t['start_time'] - t['lag_ts']) / np.timedelta64(1, 'm')"
   ]
  },
  {
   "cell_type": "code",
   "execution_count": 6,
   "metadata": {},
   "outputs": [],
   "source": [
    "cond_inactivity = t.inactivity > 30\n",
    "cond_url_not_NaN = t.url is not np.nan\n",
    "cond_lag_ts_NaN = t.lag_ts is np.nan\n",
    "cond_login = ((t.url == 'https://www.telenor.no/bedrift/minbedrift/beta/#/') | (t.url == 'https://www.telenor.no/bedrift/minbedrift/beta/') | (t.url == 'https://www.telenor.no/bedrift/minbedrift/beta/mobile-app.html#/')) & (\"_load_\" in t.action)\n",
    "cond = cond_url_not_NaN & ((cond_login & cond_lag_ts_NaN) | cond_inactivity)\n",
    "\n",
    "t['tmp'] = cond.groupby(t.visit_id).cumsum().where(cond, 0).astype(int).replace(to_replace=0, method='ffill')\n",
    "\n",
    "t['sequence'] = t.groupby(['tmp', 'visit_id']).cumcount() + 1\n",
    "t['UUID'] = 1\n",
    "t.loc[:, \"UUID\"] = t.groupby(['user', 'tmp', 'visit_id'])['UUID'].transform(lambda g: uuid.uuid4())\n",
    "\n",
    "# drop all sessions with 1 event (since they are duplicates)\n",
    "t['uuid_count'] = t.groupby('UUID').UUID.transform('count')\n",
    "t = t[t.uuid_count > 1]"
   ]
  },
  {
   "cell_type": "code",
   "execution_count": 14,
   "metadata": {},
   "outputs": [
    {
     "data": {
      "image/png": "[encoded data removed]",
      "text/plain": [
       "<Figure size 432x288 with 1 Axes>"
      ]
     },
     "metadata": {},
     "output_type": "display_data"
    }
   ],
   "source": [
    "df = pd.DataFrame({'size':t.groupby('UUID').size()})\n",
    "freq = pd.DataFrame({'freq':df.groupby('size').size()})\n",
    "freq['size'] = freq.index\n",
    "freq['inx'] = range(len(freq))\n",
    "ax = sns.barplot(x=\"size\", y=\"freq\", data=freq)\n",
    "ax.set_xticklabels(freq[\"size\"], rotation=40)\n",
    "for index, row in freq.iterrows():\n",
    "    ax.text(row.inx, row.freq, row.freq, color='black', ha=\"center\")\n",
    "plt.title(\"Sessions size by frequency\", fontsize=15)\n",
    "plt.savefig('img/session_freq.png')"
   ]
  },
  {
   "cell_type": "code",
   "execution_count": 34,
   "metadata": {},
   "outputs": [],
   "source": [
    "sns.set_style('white')\n",
    "\n",
    "# use LaTeX fonts in the plot\n",
    "plt.rc('text', usetex=True)\n",
    "plt.rc('font', family='serif')"
   ]
  },
  {
   "cell_type": "code",
   "execution_count": 24,
   "metadata": {},
   "outputs": [
    {
     "data": {
      "text/html": [
       "<div>\n",
       "<style scoped>\n",
       "    .dataframe tbody tr th:only-of-type {\n",
       "        vertical-align: middle;\n",
       "    }\n",
       "\n",
       "    .dataframe tbody tr th {\n",
       "        vertical-align: top;\n",
       "    }\n",
       "\n",
       "    .dataframe thead th {\n",
       "        text-align: right;\n",
       "    }\n",
       "</style>\n",
       "<table border=\"1\" class=\"dataframe\">\n",
       "  <thead>\n",
       "    <tr style=\"text-align: right;\">\n",
       "      <th>size</th>\n",
       "      <th>1</th>\n",
       "      <th>2</th>\n",
       "      <th>3</th>\n",
       "      <th>4</th>\n",
       "      <th>5</th>\n",
       "      <th>6</th>\n",
       "      <th>7</th>\n",
       "      <th>8</th>\n",
       "      <th>9</th>\n",
       "      <th>10</th>\n",
       "      <th>...</th>\n",
       "      <th>944</th>\n",
       "      <th>973</th>\n",
       "      <th>981</th>\n",
       "      <th>1034</th>\n",
       "      <th>1196</th>\n",
       "      <th>1204</th>\n",
       "      <th>1404</th>\n",
       "      <th>1438</th>\n",
       "      <th>1692</th>\n",
       "      <th>1954</th>\n",
       "    </tr>\n",
       "  </thead>\n",
       "  <tbody>\n",
       "    <tr>\n",
       "      <th>freq</th>\n",
       "      <td>21202</td>\n",
       "      <td>11056</td>\n",
       "      <td>14916</td>\n",
       "      <td>13956</td>\n",
       "      <td>13557</td>\n",
       "      <td>13510</td>\n",
       "      <td>12364</td>\n",
       "      <td>11235</td>\n",
       "      <td>9302</td>\n",
       "      <td>8386</td>\n",
       "      <td>...</td>\n",
       "      <td>1</td>\n",
       "      <td>1</td>\n",
       "      <td>1</td>\n",
       "      <td>1</td>\n",
       "      <td>1</td>\n",
       "      <td>1</td>\n",
       "      <td>1</td>\n",
       "      <td>1</td>\n",
       "      <td>1</td>\n",
       "      <td>1</td>\n",
       "    </tr>\n",
       "  </tbody>\n",
       "</table>\n",
       "<p>1 rows × 515 columns</p>\n",
       "</div>"
      ],
      "text/plain": [
       "size   1      2      3      4      5      6      7      8     9     10    \\\n",
       "freq  21202  11056  14916  13956  13557  13510  12364  11235  9302  8386   \n",
       "\n",
       "size  ...   944   973   981   1034  1196  1204  1404  1438  1692  1954  \n",
       "freq  ...      1     1     1     1     1     1     1     1     1     1  \n",
       "\n",
       "[1 rows x 515 columns]"
      ]
     },
     "execution_count": 24,
     "metadata": {},
     "output_type": "execute_result"
    }
   ],
   "source": [
    "df = pd.DataFrame({'size':dataset.groupby('visit_id').size()})\n",
    "freq = pd.DataFrame({'freq':df.groupby('size').size()})\n",
    "freq.T.head(100)"
   ]
  },
  {
   "cell_type": "code",
   "execution_count": 37,
   "metadata": {},
   "outputs": [
    {
     "data": {
      "image/png": "[encoded data removed]",
      "text/plain": [
       "<Figure size 432x288 with 1 Axes>"
      ]
     },
     "metadata": {},
     "output_type": "display_data"
    },
    {
     "data": {
      "text/plain": [
       "100"
      ]
     },
     "execution_count": 37,
     "metadata": {},
     "output_type": "execute_result"
    }
   ],
   "source": [
    "# 10 bins histogram\n",
    "\n",
    "df = pd.DataFrame({'size':dataset.groupby('visit_id').size()})\n",
    "bins = np.linspace(0,df.max(),100)\n",
    "n, bins, pathces = plt.hist(x=df.values,bins=bins,log=True,color='royalblue',edgecolor='black')\n",
    "#plt.xticks(bins)\n",
    "plt.xlabel('session length (100 bins)')\n",
    "plt.ylabel('number of sessions in each bin')\n",
    "step = bins[1]/2\n",
    "#for x,y in zip(bins,n):\n",
    "#    plt.text(x+step, (y + 0.1 * y),'%.0f' % y, color='black', ha='center')\n",
    "plt.savefig(\"img/session_freq.pdf\", bbox_inches='tight')\n",
    "plt.show()\n",
    "len(bins)"
   ]
  },
  {
   "cell_type": "code",
   "execution_count": 145,
   "metadata": {},
   "outputs": [
    {
     "data": {
      "image/png": "[encoded data removed]",
      "text/plain": [
       "<Figure size 432x288 with 1 Axes>"
      ]
     },
     "metadata": {},
     "output_type": "display_data"
    }
   ],
   "source": [
    "# 10 bins histogram\n",
    "\n",
    "df = pd.DataFrame({'size':dataset.groupby('visit_id').size()})\n",
    "bins = np.linspace(0,df.max(),10)\n",
    "n, bins, pathces = plt.hist(x=df.values,bins=bins,log=True,color='royalblue',edgecolor='black')\n",
    "plt.xticks(bins)\n",
    "plt.xlabel('session length')\n",
    "plt.ylabel('number of sessions')\n",
    "step = bins[1]/2\n",
    "for x,y in zip(bins,n):\n",
    "    plt.text(x+step, (y + 0.1 * y),'%.0f' % y, color='black', ha='center')\n",
    "plt.savefig(\"img/session_freq.pdf\", bbox_inches='tight')\n",
    "plt.show()\n"
   ]
  },
  {
   "cell_type": "code",
   "execution_count": 52,
   "metadata": {},
   "outputs": [
    {
     "name": "stdout",
     "output_type": "stream",
     "text": [
      "0.0026376171190660262\n",
      "0.9973623828809339\n",
      "1.0\n"
     ]
    }
   ],
   "source": [
    "over_30 = t[(t['inactivity'] > 20)].shape[0]/t.dropna(subset=['inactivity']).shape[0]\n",
    "print(over_30)\n",
    "under_30 = t[(t['inactivity'] <= 20)].shape[0]/t.dropna(subset=['inactivity']).shape[0]\n",
    "print(under_30)\n",
    "print(over_30 + under_30)"
   ]
  },
  {
   "cell_type": "code",
   "execution_count": 48,
   "metadata": {},
   "outputs": [
    {
     "data": {
      "image/png": "[encoded data removed]",
      "text/plain": [
       "<Figure size 576x439.2 with 1 Axes>"
      ]
     },
     "metadata": {},
     "output_type": "display_data"
    },
    {
     "name": "stdout",
     "output_type": "stream",
     "text": [
      "3383736\n"
     ]
    }
   ],
   "source": [
    "plt.figure(figsize=(8,6.1))\n",
    "\n",
    "bins = np.linspace(0,t.inactivity.max(),100)\n",
    "n, bins, pathces = plt.hist(x=t.inactivity.dropna(),bins=bins,log=True,color='royalblue',edgecolor='black')\n",
    "#plt.xticks(bins)\n",
    "plt.xlabel('time delay in minutes between interactions (100 bins)')\n",
    "plt.ylabel('number of interactions in each bin')\n",
    "'''\n",
    "step = bins[1]/2\n",
    "for x,y in zip(bins,n):\n",
    "    ycord = 0.5\n",
    "    if y != 0:\n",
    "        ycord = y\n",
    "    plt.text(x+step, (ycord + 0.1 * ycord), '%.0f' % y, color='black', ha='center')\n",
    "'''\n",
    "plt.savefig(\"img/time_delay.pdf\", bbox_inches='tight')\n",
    "plt.show()\n",
    "\n",
    "print(len(t.inactivity.dropna()))"
   ]
  },
  {
   "cell_type": "code",
   "execution_count": 148,
   "metadata": {
    "scrolled": false
   },
   "outputs": [
    {
     "data": {
      "image/png": "[encoded data removed]",
      "text/plain": [
       "<Figure size 576x439.2 with 1 Axes>"
      ]
     },
     "metadata": {},
     "output_type": "display_data"
    },
    {
     "name": "stdout",
     "output_type": "stream",
     "text": [
      "3380780\n"
     ]
    }
   ],
   "source": [
    "plt.figure(figsize=(8,6.1))\n",
    "\n",
    "bins = np.linspace(0,t.inactivity.max(),14)\n",
    "n, bins, pathces = plt.hist(x=t.inactivity.dropna(),bins=bins,log=True,color='royalblue',edgecolor='black')\n",
    "plt.xticks(bins)\n",
    "plt.xlabel('time delay between interactions (min)')\n",
    "plt.ylabel('number of interactions')\n",
    "step = bins[1]/2\n",
    "for x,y in zip(bins,n):\n",
    "    ycord = 0.5\n",
    "    if y != 0:\n",
    "        ycord = y\n",
    "    plt.text(x+step, (ycord + 0.1 * ycord), '%.0f' % y, color='black', ha='center')\n",
    "plt.savefig(\"img/time_delay.pdf\", bbox_inches='tight')\n",
    "plt.show()\n",
    "\n",
    "print(len(t.inactivity.dropna()))"
   ]
  },
  {
   "cell_type": "code",
   "execution_count": 82,
   "metadata": {
    "scrolled": true
   },
   "outputs": [
    {
     "data": {
      "text/html": [
       "<div>\n",
       "<style scoped>\n",
       "    .dataframe tbody tr th:only-of-type {\n",
       "        vertical-align: middle;\n",
       "    }\n",
       "\n",
       "    .dataframe tbody tr th {\n",
       "        vertical-align: top;\n",
       "    }\n",
       "\n",
       "    .dataframe thead th {\n",
       "        text-align: right;\n",
       "    }\n",
       "</style>\n",
       "<table border=\"1\" class=\"dataframe\">\n",
       "  <thead>\n",
       "    <tr style=\"text-align: right;\">\n",
       "      <th></th>\n",
       "      <th>visit_id</th>\n",
       "      <th>sequence</th>\n",
       "      <th>start_time</th>\n",
       "      <th>event_duration</th>\n",
       "      <th>url</th>\n",
       "      <th>action</th>\n",
       "      <th>country</th>\n",
       "      <th>user_client</th>\n",
       "      <th>user_client_family</th>\n",
       "      <th>user_experience</th>\n",
       "      <th>user_os</th>\n",
       "      <th>apdex_user_experience</th>\n",
       "      <th>bounce_rate</th>\n",
       "      <th>session_duration</th>\n",
       "      <th>site</th>\n",
       "      <th>duration</th>\n",
       "      <th>exec_time</th>\n",
       "      <th>failed</th>\n",
       "      <th>partition_date</th>\n",
       "      <th>user</th>\n",
       "    </tr>\n",
       "  </thead>\n",
       "  <tbody>\n",
       "    <tr>\n",
       "      <th>3873179</th>\n",
       "      <td>30480842</td>\n",
       "      <td>1</td>\n",
       "      <td>2018-09-17 11:13:09:690</td>\n",
       "      <td>NaN</td>\n",
       "      <td>NaN</td>\n",
       "      <td>NaN</td>\n",
       "      <td>Norway - Sor-Trondelag - Trondheim</td>\n",
       "      <td>IE 11.0</td>\n",
       "      <td>IE</td>\n",
       "      <td>satisfied</td>\n",
       "      <td>Windows</td>\n",
       "      <td>satisfied</td>\n",
       "      <td>NaN</td>\n",
       "      <td>41.429</td>\n",
       "      <td>NaN</td>\n",
       "      <td>691.00000</td>\n",
       "      <td>691.00000</td>\n",
       "      <td>NaN</td>\n",
       "      <td>2018-09-17</td>\n",
       "      <td>1380</td>\n",
       "    </tr>\n",
       "    <tr>\n",
       "      <th>3873180</th>\n",
       "      <td>30480842</td>\n",
       "      <td>2</td>\n",
       "      <td>2018-09-17 11:13:09:690</td>\n",
       "      <td>0.000</td>\n",
       "      <td>NaN</td>\n",
       "      <td>NaN</td>\n",
       "      <td>Norway - Sor-Trondelag - Trondheim</td>\n",
       "      <td>IE 11.0</td>\n",
       "      <td>IE</td>\n",
       "      <td>satisfied</td>\n",
       "      <td>Windows</td>\n",
       "      <td>satisfied</td>\n",
       "      <td>NaN</td>\n",
       "      <td>41.429</td>\n",
       "      <td>NaN</td>\n",
       "      <td>691.00000</td>\n",
       "      <td>691.00000</td>\n",
       "      <td>NaN</td>\n",
       "      <td>2018-09-17</td>\n",
       "      <td>1380</td>\n",
       "    </tr>\n",
       "    <tr>\n",
       "      <th>3873181</th>\n",
       "      <td>30480842</td>\n",
       "      <td>3</td>\n",
       "      <td>2018-09-17 11:13:09:690</td>\n",
       "      <td>0.000</td>\n",
       "      <td>NaN</td>\n",
       "      <td>NaN</td>\n",
       "      <td>Norway - Sor-Trondelag - Trondheim</td>\n",
       "      <td>IE 11.0</td>\n",
       "      <td>IE</td>\n",
       "      <td>satisfied</td>\n",
       "      <td>Windows</td>\n",
       "      <td>satisfied</td>\n",
       "      <td>NaN</td>\n",
       "      <td>41.429</td>\n",
       "      <td>NaN</td>\n",
       "      <td>691.00000</td>\n",
       "      <td>691.00000</td>\n",
       "      <td>NaN</td>\n",
       "      <td>2018-09-17</td>\n",
       "      <td>1380</td>\n",
       "    </tr>\n",
       "    <tr>\n",
       "      <th>3873182</th>\n",
       "      <td>30480842</td>\n",
       "      <td>4</td>\n",
       "      <td>2018-09-17 11:13:09:690</td>\n",
       "      <td>0.000</td>\n",
       "      <td>https://www.telenor.no/bedrift/minbedrift/beta/#/</td>\n",
       "      <td>_load_</td>\n",
       "      <td>Norway - Sor-Trondelag - Trondheim</td>\n",
       "      <td>IE 11.0</td>\n",
       "      <td>IE</td>\n",
       "      <td>satisfied</td>\n",
       "      <td>Windows</td>\n",
       "      <td>satisfied</td>\n",
       "      <td>NaN</td>\n",
       "      <td>41.429</td>\n",
       "      <td>NaN</td>\n",
       "      <td>5230.19873</td>\n",
       "      <td>5999.19873</td>\n",
       "      <td>NaN</td>\n",
       "      <td>2018-09-17</td>\n",
       "      <td>1380</td>\n",
       "    </tr>\n",
       "    <tr>\n",
       "      <th>3873215</th>\n",
       "      <td>30480842</td>\n",
       "      <td>5</td>\n",
       "      <td>2018-09-17 11:13:29:938</td>\n",
       "      <td>20.248</td>\n",
       "      <td>https://www.telenor.no/bedrift/minbedrift/beta/#/</td>\n",
       "      <td>click on \"Nytt abonnement eller eierskifte\"</td>\n",
       "      <td>Norway - Sor-Trondelag - Trondheim</td>\n",
       "      <td>IE 11.0</td>\n",
       "      <td>IE</td>\n",
       "      <td>satisfied</td>\n",
       "      <td>Windows</td>\n",
       "      <td>satisfied</td>\n",
       "      <td>NaN</td>\n",
       "      <td>41.429</td>\n",
       "      <td>NaN</td>\n",
       "      <td>311.00000</td>\n",
       "      <td>311.00000</td>\n",
       "      <td>NaN</td>\n",
       "      <td>2018-09-17</td>\n",
       "      <td>1380</td>\n",
       "    </tr>\n",
       "    <tr>\n",
       "      <th>3873216</th>\n",
       "      <td>30480842</td>\n",
       "      <td>6</td>\n",
       "      <td>2018-09-17 11:13:31:841</td>\n",
       "      <td>1.903</td>\n",
       "      <td>https://www.telenor.no/bedrift/minbedrift/beta/#/</td>\n",
       "      <td>click on \"Opprett nytt abonnement fra grunnen av\"</td>\n",
       "      <td>Norway - Sor-Trondelag - Trondheim</td>\n",
       "      <td>IE 11.0</td>\n",
       "      <td>IE</td>\n",
       "      <td>satisfied</td>\n",
       "      <td>Windows</td>\n",
       "      <td>satisfied</td>\n",
       "      <td>NaN</td>\n",
       "      <td>41.429</td>\n",
       "      <td>NaN</td>\n",
       "      <td>192.00000</td>\n",
       "      <td>192.00000</td>\n",
       "      <td>NaN</td>\n",
       "      <td>2018-09-17</td>\n",
       "      <td>1380</td>\n",
       "    </tr>\n",
       "    <tr>\n",
       "      <th>3873219</th>\n",
       "      <td>30480842</td>\n",
       "      <td>7</td>\n",
       "      <td>2018-09-17 11:13:33:590</td>\n",
       "      <td>1.750</td>\n",
       "      <td>https://www.telenor.no/bedrift/minbedrift/beta/#/</td>\n",
       "      <td>click on \"Abonnement for tale og data\"</td>\n",
       "      <td>Norway - Sor-Trondelag - Trondheim</td>\n",
       "      <td>IE 11.0</td>\n",
       "      <td>IE</td>\n",
       "      <td>satisfied</td>\n",
       "      <td>Windows</td>\n",
       "      <td>satisfied</td>\n",
       "      <td>NaN</td>\n",
       "      <td>41.429</td>\n",
       "      <td>NaN</td>\n",
       "      <td>823.00000</td>\n",
       "      <td>823.00000</td>\n",
       "      <td>NaN</td>\n",
       "      <td>2018-09-17</td>\n",
       "      <td>1380</td>\n",
       "    </tr>\n",
       "    <tr>\n",
       "      <th>3873221</th>\n",
       "      <td>30480842</td>\n",
       "      <td>8</td>\n",
       "      <td>2018-09-17 11:13:36:160</td>\n",
       "      <td>2.570</td>\n",
       "      <td>https://www.telenor.no/bedrift/minbedrift/beta...</td>\n",
       "      <td>click on \"Fortsett\"</td>\n",
       "      <td>Norway - Sor-Trondelag - Trondheim</td>\n",
       "      <td>IE 11.0</td>\n",
       "      <td>IE</td>\n",
       "      <td>satisfied</td>\n",
       "      <td>Windows</td>\n",
       "      <td>satisfied</td>\n",
       "      <td>NaN</td>\n",
       "      <td>41.429</td>\n",
       "      <td>NaN</td>\n",
       "      <td>2640.00000</td>\n",
       "      <td>7173.00000</td>\n",
       "      <td>NaN</td>\n",
       "      <td>2018-09-17</td>\n",
       "      <td>1380</td>\n",
       "    </tr>\n",
       "    <tr>\n",
       "      <th>3873254</th>\n",
       "      <td>30480842</td>\n",
       "      <td>9</td>\n",
       "      <td>2018-09-17 11:14:00:301</td>\n",
       "      <td>24.141</td>\n",
       "      <td>https://www.telenor.no/bedrift/minbedrift/beta...</td>\n",
       "      <td>click on \"Finn person\"</td>\n",
       "      <td>Norway - Sor-Trondelag - Trondheim</td>\n",
       "      <td>IE 11.0</td>\n",
       "      <td>IE</td>\n",
       "      <td>satisfied</td>\n",
       "      <td>Windows</td>\n",
       "      <td>satisfied</td>\n",
       "      <td>NaN</td>\n",
       "      <td>41.429</td>\n",
       "      <td>NaN</td>\n",
       "      <td>436.00000</td>\n",
       "      <td>436.00000</td>\n",
       "      <td>NaN</td>\n",
       "      <td>2018-09-17</td>\n",
       "      <td>1380</td>\n",
       "    </tr>\n",
       "    <tr>\n",
       "      <th>3873269</th>\n",
       "      <td>30480842</td>\n",
       "      <td>10</td>\n",
       "      <td>2018-09-17 11:14:09:732</td>\n",
       "      <td>9.431</td>\n",
       "      <td>https://www.telenor.no/bedrift/minbedrift/beta...</td>\n",
       "      <td>click on \"Neste Lagre\"</td>\n",
       "      <td>Norway - Sor-Trondelag - Trondheim</td>\n",
       "      <td>IE 11.0</td>\n",
       "      <td>IE</td>\n",
       "      <td>satisfied</td>\n",
       "      <td>Windows</td>\n",
       "      <td>satisfied</td>\n",
       "      <td>NaN</td>\n",
       "      <td>41.429</td>\n",
       "      <td>NaN</td>\n",
       "      <td>404.00000</td>\n",
       "      <td>404.00000</td>\n",
       "      <td>NaN</td>\n",
       "      <td>2018-09-17</td>\n",
       "      <td>1380</td>\n",
       "    </tr>\n",
       "    <tr>\n",
       "      <th>3873270</th>\n",
       "      <td>30480842</td>\n",
       "      <td>11</td>\n",
       "      <td>2018-09-17 11:14:11:367</td>\n",
       "      <td>1.635</td>\n",
       "      <td>https://www.telenor.no/bedrift/minbedrift/beta...</td>\n",
       "      <td>click on \"Neste Lagre\"</td>\n",
       "      <td>Norway - Sor-Trondelag - Trondheim</td>\n",
       "      <td>IE 11.0</td>\n",
       "      <td>IE</td>\n",
       "      <td>satisfied</td>\n",
       "      <td>Windows</td>\n",
       "      <td>satisfied</td>\n",
       "      <td>NaN</td>\n",
       "      <td>41.429</td>\n",
       "      <td>NaN</td>\n",
       "      <td>413.00000</td>\n",
       "      <td>413.00000</td>\n",
       "      <td>NaN</td>\n",
       "      <td>2018-09-17</td>\n",
       "      <td>1380</td>\n",
       "    </tr>\n",
       "    <tr>\n",
       "      <th>3873279</th>\n",
       "      <td>30480842</td>\n",
       "      <td>12</td>\n",
       "      <td>2018-09-17 11:14:24:514</td>\n",
       "      <td>13.147</td>\n",
       "      <td>https://www.telenor.no/bedrift/minbedrift/beta...</td>\n",
       "      <td>click on \"Neste Lagre\"</td>\n",
       "      <td>Norway - Sor-Trondelag - Trondheim</td>\n",
       "      <td>IE 11.0</td>\n",
       "      <td>IE</td>\n",
       "      <td>satisfied</td>\n",
       "      <td>Windows</td>\n",
       "      <td>satisfied</td>\n",
       "      <td>NaN</td>\n",
       "      <td>41.429</td>\n",
       "      <td>NaN</td>\n",
       "      <td>691.00000</td>\n",
       "      <td>691.00000</td>\n",
       "      <td>NaN</td>\n",
       "      <td>2018-09-17</td>\n",
       "      <td>1380</td>\n",
       "    </tr>\n",
       "  </tbody>\n",
       "</table>\n",
       "</div>"
      ],
      "text/plain": [
       "         visit_id  sequence               start_time  event_duration  \\\n",
       "3873179  30480842         1  2018-09-17 11:13:09:690             NaN   \n",
       "3873180  30480842         2  2018-09-17 11:13:09:690           0.000   \n",
       "3873181  30480842         3  2018-09-17 11:13:09:690           0.000   \n",
       "3873182  30480842         4  2018-09-17 11:13:09:690           0.000   \n",
       "3873215  30480842         5  2018-09-17 11:13:29:938          20.248   \n",
       "3873216  30480842         6  2018-09-17 11:13:31:841           1.903   \n",
       "3873219  30480842         7  2018-09-17 11:13:33:590           1.750   \n",
       "3873221  30480842         8  2018-09-17 11:13:36:160           2.570   \n",
       "3873254  30480842         9  2018-09-17 11:14:00:301          24.141   \n",
       "3873269  30480842        10  2018-09-17 11:14:09:732           9.431   \n",
       "3873270  30480842        11  2018-09-17 11:14:11:367           1.635   \n",
       "3873279  30480842        12  2018-09-17 11:14:24:514          13.147   \n",
       "\n",
       "                                                       url  \\\n",
       "3873179                                                NaN   \n",
       "3873180                                                NaN   \n",
       "3873181                                                NaN   \n",
       "3873182  https://www.telenor.no/bedrift/minbedrift/beta/#/   \n",
       "3873215  https://www.telenor.no/bedrift/minbedrift/beta/#/   \n",
       "3873216  https://www.telenor.no/bedrift/minbedrift/beta/#/   \n",
       "3873219  https://www.telenor.no/bedrift/minbedrift/beta/#/   \n",
       "3873221  https://www.telenor.no/bedrift/minbedrift/beta...   \n",
       "3873254  https://www.telenor.no/bedrift/minbedrift/beta...   \n",
       "3873269  https://www.telenor.no/bedrift/minbedrift/beta...   \n",
       "3873270  https://www.telenor.no/bedrift/minbedrift/beta...   \n",
       "3873279  https://www.telenor.no/bedrift/minbedrift/beta...   \n",
       "\n",
       "                                                    action  \\\n",
       "3873179                                                NaN   \n",
       "3873180                                                NaN   \n",
       "3873181                                                NaN   \n",
       "3873182                                             _load_   \n",
       "3873215        click on \"Nytt abonnement eller eierskifte\"   \n",
       "3873216  click on \"Opprett nytt abonnement fra grunnen av\"   \n",
       "3873219             click on \"Abonnement for tale og data\"   \n",
       "3873221                                click on \"Fortsett\"   \n",
       "3873254                             click on \"Finn person\"   \n",
       "3873269                             click on \"Neste Lagre\"   \n",
       "3873270                             click on \"Neste Lagre\"   \n",
       "3873279                             click on \"Neste Lagre\"   \n",
       "\n",
       "                                    country user_client user_client_family  \\\n",
       "3873179  Norway - Sor-Trondelag - Trondheim     IE 11.0                 IE   \n",
       "3873180  Norway - Sor-Trondelag - Trondheim     IE 11.0                 IE   \n",
       "3873181  Norway - Sor-Trondelag - Trondheim     IE 11.0                 IE   \n",
       "3873182  Norway - Sor-Trondelag - Trondheim     IE 11.0                 IE   \n",
       "3873215  Norway - Sor-Trondelag - Trondheim     IE 11.0                 IE   \n",
       "3873216  Norway - Sor-Trondelag - Trondheim     IE 11.0                 IE   \n",
       "3873219  Norway - Sor-Trondelag - Trondheim     IE 11.0                 IE   \n",
       "3873221  Norway - Sor-Trondelag - Trondheim     IE 11.0                 IE   \n",
       "3873254  Norway - Sor-Trondelag - Trondheim     IE 11.0                 IE   \n",
       "3873269  Norway - Sor-Trondelag - Trondheim     IE 11.0                 IE   \n",
       "3873270  Norway - Sor-Trondelag - Trondheim     IE 11.0                 IE   \n",
       "3873279  Norway - Sor-Trondelag - Trondheim     IE 11.0                 IE   \n",
       "\n",
       "        user_experience  user_os apdex_user_experience  bounce_rate  \\\n",
       "3873179       satisfied  Windows             satisfied          NaN   \n",
       "3873180       satisfied  Windows             satisfied          NaN   \n",
       "3873181       satisfied  Windows             satisfied          NaN   \n",
       "3873182       satisfied  Windows             satisfied          NaN   \n",
       "3873215       satisfied  Windows             satisfied          NaN   \n",
       "3873216       satisfied  Windows             satisfied          NaN   \n",
       "3873219       satisfied  Windows             satisfied          NaN   \n",
       "3873221       satisfied  Windows             satisfied          NaN   \n",
       "3873254       satisfied  Windows             satisfied          NaN   \n",
       "3873269       satisfied  Windows             satisfied          NaN   \n",
       "3873270       satisfied  Windows             satisfied          NaN   \n",
       "3873279       satisfied  Windows             satisfied          NaN   \n",
       "\n",
       "         session_duration  site    duration   exec_time  failed  \\\n",
       "3873179            41.429   NaN   691.00000   691.00000     NaN   \n",
       "3873180            41.429   NaN   691.00000   691.00000     NaN   \n",
       "3873181            41.429   NaN   691.00000   691.00000     NaN   \n",
       "3873182            41.429   NaN  5230.19873  5999.19873     NaN   \n",
       "3873215            41.429   NaN   311.00000   311.00000     NaN   \n",
       "3873216            41.429   NaN   192.00000   192.00000     NaN   \n",
       "3873219            41.429   NaN   823.00000   823.00000     NaN   \n",
       "3873221            41.429   NaN  2640.00000  7173.00000     NaN   \n",
       "3873254            41.429   NaN   436.00000   436.00000     NaN   \n",
       "3873269            41.429   NaN   404.00000   404.00000     NaN   \n",
       "3873270            41.429   NaN   413.00000   413.00000     NaN   \n",
       "3873279            41.429   NaN   691.00000   691.00000     NaN   \n",
       "\n",
       "        partition_date  user  \n",
       "3873179     2018-09-17  1380  \n",
       "3873180     2018-09-17  1380  \n",
       "3873181     2018-09-17  1380  \n",
       "3873182     2018-09-17  1380  \n",
       "3873215     2018-09-17  1380  \n",
       "3873216     2018-09-17  1380  \n",
       "3873219     2018-09-17  1380  \n",
       "3873221     2018-09-17  1380  \n",
       "3873254     2018-09-17  1380  \n",
       "3873269     2018-09-17  1380  \n",
       "3873270     2018-09-17  1380  \n",
       "3873279     2018-09-17  1380  "
      ]
     },
     "execution_count": 82,
     "metadata": {},
     "output_type": "execute_result"
    }
   ],
   "source": [
    "small_session = dataset.loc[dataset['visit_id'] == 30480842]\n",
    "small_session"
   ]
  },
  {
   "cell_type": "code",
   "execution_count": 13,
   "metadata": {},
   "outputs": [
    {
     "data": {
      "text/plain": [
       "200324"
      ]
     },
     "execution_count": 13,
     "metadata": {},
     "output_type": "execute_result"
    }
   ],
   "source": [
    "len(set(t.UUID))"
   ]
  },
  {
   "cell_type": "code",
   "execution_count": 46,
   "metadata": {
    "scrolled": true
   },
   "outputs": [
    {
     "data": {
      "text/plain": [
       "783"
      ]
     },
     "execution_count": 46,
     "metadata": {},
     "output_type": "execute_result"
    }
   ],
   "source": [
    "\n",
    "#t[t['UUID'] == 0000547e-8d48-4e81-aca7-59b496011ead]\n",
    "t.groupby(['UUID'])['action_cleaned'].value_counts().max()"
   ]
  },
  {
   "cell_type": "code",
   "execution_count": 28,
   "metadata": {},
   "outputs": [
    {
     "data": {
      "text/html": [
       "<div>\n",
       "<style scoped>\n",
       "    .dataframe tbody tr th:only-of-type {\n",
       "        vertical-align: middle;\n",
       "    }\n",
       "\n",
       "    .dataframe tbody tr th {\n",
       "        vertical-align: top;\n",
       "    }\n",
       "\n",
       "    .dataframe thead th {\n",
       "        text-align: right;\n",
       "    }\n",
       "</style>\n",
       "<table border=\"1\" class=\"dataframe\">\n",
       "  <thead>\n",
       "    <tr style=\"text-align: right;\">\n",
       "      <th></th>\n",
       "      <th>visit_id</th>\n",
       "      <th>start_time</th>\n",
       "      <th>url</th>\n",
       "      <th>action</th>\n",
       "    </tr>\n",
       "  </thead>\n",
       "  <tbody>\n",
       "    <tr>\n",
       "      <th>3873182</th>\n",
       "      <td>30480842</td>\n",
       "      <td>2018-09-17 11:13:09</td>\n",
       "      <td>https://www.tele...</td>\n",
       "      <td>_load_</td>\n",
       "    </tr>\n",
       "    <tr>\n",
       "      <th>3873215</th>\n",
       "      <td>30480842</td>\n",
       "      <td>2018-09-17 11:13:29</td>\n",
       "      <td>https://www.tele...</td>\n",
       "      <td>click on \"Nytt a...</td>\n",
       "    </tr>\n",
       "    <tr>\n",
       "      <th>3873216</th>\n",
       "      <td>30480842</td>\n",
       "      <td>2018-09-17 11:13:31</td>\n",
       "      <td>https://www.tele...</td>\n",
       "      <td>click on \"Oppret...</td>\n",
       "    </tr>\n",
       "    <tr>\n",
       "      <th>3873219</th>\n",
       "      <td>30480842</td>\n",
       "      <td>2018-09-17 11:13:33</td>\n",
       "      <td>https://www.tele...</td>\n",
       "      <td>click on \"Abonne...</td>\n",
       "    </tr>\n",
       "  </tbody>\n",
       "</table>\n",
       "</div>"
      ],
      "text/plain": [
       "         visit_id          start_time                  url  \\\n",
       "3873182  30480842 2018-09-17 11:13:09  https://www.tele...   \n",
       "3873215  30480842 2018-09-17 11:13:29  https://www.tele...   \n",
       "3873216  30480842 2018-09-17 11:13:31  https://www.tele...   \n",
       "3873219  30480842 2018-09-17 11:13:33  https://www.tele...   \n",
       "\n",
       "                      action  \n",
       "3873182               _load_  \n",
       "3873215  click on \"Nytt a...  \n",
       "3873216  click on \"Oppret...  \n",
       "3873219  click on \"Abonne...  "
      ]
     },
     "execution_count": 28,
     "metadata": {},
     "output_type": "execute_result"
    }
   ],
   "source": [
    "z =s.head(4)\n",
    "z = z[['visit_id','start_time','url','action']]\n",
    "pd.set_option('max_colwidth', 20)\n",
    "z"
   ]
  },
  {
   "cell_type": "code",
   "execution_count": 29,
   "metadata": {},
   "outputs": [],
   "source": [
    "with open(\"my_table.tex\", \"w\") as f:\n",
    "    f.write(z.to_latex(index=False))"
   ]
  },
  {
   "cell_type": "code",
   "execution_count": 1,
   "metadata": {},
   "outputs": [],
   "source": [
    "import pickle \n",
    "\n",
    "s = pickle.load( open( \"./cleaned_dataset.p\", \"rb\" ) )"
   ]
  },
  {
   "cell_type": "code",
   "execution_count": 4,
   "metadata": {},
   "outputs": [
    {
     "name": "stderr",
     "output_type": "stream",
     "text": [
      "/home/aksel/anaconda3/lib/python3.6/site-packages/ipykernel_launcher.py:3: FutureWarning: 'UUID' is both an index level and a column label.\n",
      "Defaulting to column, but this will raise an ambiguity error in a future version\n",
      "  This is separate from the ipykernel package so we can avoid doing imports until\n"
     ]
    },
    {
     "data": {
      "image/png": "[encoded data removed]",
      "text/plain": [
       "<Figure size 432x288 with 1 Axes>"
      ]
     },
     "metadata": {},
     "output_type": "display_data"
    },
    {
     "data": {
      "text/plain": [
       "100"
      ]
     },
     "execution_count": 4,
     "metadata": {},
     "output_type": "execute_result"
    }
   ],
   "source": [
    "# 10 bins histogram\n",
    "\n",
    "df = pd.DataFrame({'size':s.groupby('UUID').size()})\n",
    "bins = np.linspace(0,df.max(),100)\n",
    "n, bins, pathces = plt.hist(x=df.values,bins=bins,log=True,color='royalblue',edgecolor='black')\n",
    "#plt.xticks(bins)\n",
    "plt.xlabel('session length (100 bins)')\n",
    "plt.ylabel('number of sessions in each bin')\n",
    "step = bins[1]/2\n",
    "#for x,y in zip(bins,n):\n",
    "#    plt.text(x+step, (y + 0.1 * y),'%.0f' % y, color='black', ha='center')\n",
    "plt.savefig(\"img/new_session_freq.pdf\", bbox_inches='tight')\n",
    "plt.show()\n",
    "len(bins)"
   ]
  },
  {
   "cell_type": "code",
   "execution_count": null,
   "metadata": {},
   "outputs": [],
   "source": []
  }
 ],
 "metadata": {
  "kernelspec": {
   "display_name": "Python 3",
   "language": "python",
   "name": "python3"
  },
  "language_info": {
   "codemirror_mode": {
    "name": "ipython",
    "version": 3
   },
   "file_extension": ".py",
   "mimetype": "text/x-python",
   "name": "python",
   "nbconvert_exporter": "python",
   "pygments_lexer": "ipython3",
   "version": "3.6.8"
  }
 },
 "nbformat": 4,
 "nbformat_minor": 2
}
