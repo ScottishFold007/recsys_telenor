{
 "cells": [
  {
   "cell_type": "code",
   "execution_count": 1,
   "metadata": {},
   "outputs": [],
   "source": [
    "from datetime import datetime as dt\n",
    "import uuid \n",
    "import numpy as np\n",
    "import matplotlib.pyplot as plt\n",
    "import pandas as pd\n",
    "import seaborn as sns\n",
    "import pickle"
   ]
  },
  {
   "cell_type": "code",
   "execution_count": 2,
   "metadata": {},
   "outputs": [],
   "source": [
    "df = pickle.load( open( \"./cleaned_dataset.p\", \"rb\" ) )"
   ]
  },
  {
   "cell_type": "code",
   "execution_count": 3,
   "metadata": {},
   "outputs": [
    {
     "data": {
      "text/plain": [
       "2566296"
      ]
     },
     "execution_count": 3,
     "metadata": {},
     "output_type": "execute_result"
    }
   ],
   "source": [
    "len(df.index)"
   ]
  },
  {
   "cell_type": "code",
   "execution_count": 4,
   "metadata": {},
   "outputs": [
    {
     "name": "stderr",
     "output_type": "stream",
     "text": [
      "/home/aksel/anaconda3/lib/python3.6/site-packages/ipykernel_launcher.py:1: FutureWarning: 'UUID' is both an index level and a column label.\n",
      "Defaulting to column, but this will raise an ambiguity error in a future version\n",
      "  \"\"\"Entry point for launching an IPython kernel.\n"
     ]
    },
    {
     "data": {
      "text/plain": [
       "197686"
      ]
     },
     "execution_count": 4,
     "metadata": {},
     "output_type": "execute_result"
    }
   ],
   "source": [
    "len(df.groupby('UUID'))"
   ]
  },
  {
   "cell_type": "code",
   "execution_count": 5,
   "metadata": {},
   "outputs": [
    {
     "name": "stderr",
     "output_type": "stream",
     "text": [
      "/home/aksel/anaconda3/lib/python3.6/site-packages/ipykernel_launcher.py:1: FutureWarning: 'UUID' is both an index level and a column label.\n",
      "Defaulting to column, but this will raise an ambiguity error in a future version\n",
      "  \"\"\"Entry point for launching an IPython kernel.\n"
     ]
    }
   ],
   "source": [
    "c = df.groupby('UUID').filter(lambda g: (g.action_cleaned == 'start_chat').any())"
   ]
  },
  {
   "cell_type": "code",
   "execution_count": 7,
   "metadata": {},
   "outputs": [],
   "source": [
    "with open('chat_sessions.p', 'wb') as f:\n",
    "    pickle.dump(c, f)"
   ]
  },
  {
   "cell_type": "code",
   "execution_count": 2,
   "metadata": {},
   "outputs": [],
   "source": [
    "c = pickle.load( open( \"./chat_sessions.p\", \"rb\" ) )"
   ]
  },
  {
   "cell_type": "code",
   "execution_count": 9,
   "metadata": {},
   "outputs": [
    {
     "data": {
      "text/plain": [
       "351251"
      ]
     },
     "execution_count": 9,
     "metadata": {},
     "output_type": "execute_result"
    }
   ],
   "source": [
    "len(c.index)"
   ]
  },
  {
   "cell_type": "code",
   "execution_count": 10,
   "metadata": {},
   "outputs": [
    {
     "name": "stderr",
     "output_type": "stream",
     "text": [
      "/home/aksel/anaconda3/lib/python3.6/site-packages/ipykernel_launcher.py:1: FutureWarning: 'UUID' is both an index level and a column label.\n",
      "Defaulting to column, but this will raise an ambiguity error in a future version\n",
      "  \"\"\"Entry point for launching an IPython kernel.\n"
     ]
    },
    {
     "data": {
      "text/plain": [
       "15874"
      ]
     },
     "execution_count": 10,
     "metadata": {},
     "output_type": "execute_result"
    }
   ],
   "source": [
    "len(c.groupby('UUID'))"
   ]
  },
  {
   "cell_type": "code",
   "execution_count": 27,
   "metadata": {},
   "outputs": [
    {
     "name": "stderr",
     "output_type": "stream",
     "text": [
      "/home/aksel/anaconda3/lib/python3.6/site-packages/ipykernel_launcher.py:1: FutureWarning: 'UUID' is both an index level and a column label.\n",
      "Defaulting to column, but this will raise an ambiguity error in a future version\n",
      "  \"\"\"Entry point for launching an IPython kernel.\n"
     ]
    },
    {
     "data": {
      "text/plain": [
       "0.08029906012565381"
      ]
     },
     "execution_count": 27,
     "metadata": {},
     "output_type": "execute_result"
    }
   ],
   "source": [
    "len(c.groupby('UUID')) / len(df.groupby('UUID')) "
   ]
  },
  {
   "cell_type": "code",
   "execution_count": 36,
   "metadata": {
    "scrolled": true
   },
   "outputs": [
    {
     "name": "stderr",
     "output_type": "stream",
     "text": [
      "/home/aksel/anaconda3/lib/python3.6/site-packages/ipykernel_launcher.py:1: FutureWarning: 'UUID' is both an index level and a column label.\n",
      "Defaulting to column, but this will raise an ambiguity error in a future version\n",
      "  \"\"\"Entry point for launching an IPython kernel.\n"
     ]
    }
   ],
   "source": [
    "c['sequence'] = c.groupby(['UUID']).cumcount() + 1"
   ]
  },
  {
   "cell_type": "code",
   "execution_count": 26,
   "metadata": {},
   "outputs": [],
   "source": [
    "num_items_before_chat = c[c.action_cleaned == 'start_chat']"
   ]
  },
  {
   "cell_type": "code",
   "execution_count": 80,
   "metadata": {
    "scrolled": true
   },
   "outputs": [
    {
     "name": "stderr",
     "output_type": "stream",
     "text": [
      "/home/aksel/anaconda3/lib/python3.6/site-packages/ipykernel_launcher.py:6: FutureWarning: 'UUID' is both an index level and a column label.\n",
      "Defaulting to column, but this will raise an ambiguity error in a future version\n",
      "  \n"
     ]
    }
   ],
   "source": [
    "def define_session_start_time(x):\n",
    "    st = x.start_time.iloc[0]\n",
    "    x['session_start_time'] = st\n",
    "    return x\n",
    "\n",
    "c = c.groupby(['UUID']).apply(define_session_start_time)"
   ]
  },
  {
   "cell_type": "code",
   "execution_count": 102,
   "metadata": {
    "scrolled": true
   },
   "outputs": [],
   "source": [
    "c['time_since_start'] = (c['start_time'] - c['session_start_time'])  / np.timedelta64(1, 'm')"
   ]
  },
  {
   "cell_type": "code",
   "execution_count": 103,
   "metadata": {},
   "outputs": [],
   "source": [
    "ch = c[c.action_cleaned == 'start_chat']"
   ]
  },
  {
   "cell_type": "code",
   "execution_count": 104,
   "metadata": {
    "scrolled": true
   },
   "outputs": [
    {
     "data": {
      "text/html": [
       "<div>\n",
       "<style scoped>\n",
       "    .dataframe tbody tr th:only-of-type {\n",
       "        vertical-align: middle;\n",
       "    }\n",
       "\n",
       "    .dataframe tbody tr th {\n",
       "        vertical-align: top;\n",
       "    }\n",
       "\n",
       "    .dataframe thead th {\n",
       "        text-align: right;\n",
       "    }\n",
       "</style>\n",
       "<table border=\"1\" class=\"dataframe\">\n",
       "  <thead>\n",
       "    <tr style=\"text-align: right;\">\n",
       "      <th></th>\n",
       "      <th></th>\n",
       "      <th>Unnamed: 0</th>\n",
       "      <th>visit_id</th>\n",
       "      <th>sequence</th>\n",
       "      <th>start_time</th>\n",
       "      <th>event_duration</th>\n",
       "      <th>url</th>\n",
       "      <th>action</th>\n",
       "      <th>country</th>\n",
       "      <th>user_client</th>\n",
       "      <th>user_client_family</th>\n",
       "      <th>...</th>\n",
       "      <th>hour</th>\n",
       "      <th>DOW</th>\n",
       "      <th>lag_ts</th>\n",
       "      <th>inactivity</th>\n",
       "      <th>tmp</th>\n",
       "      <th>UUID</th>\n",
       "      <th>uuid_count</th>\n",
       "      <th>sequence_2</th>\n",
       "      <th>session_start_time</th>\n",
       "      <th>time_since_start</th>\n",
       "    </tr>\n",
       "    <tr>\n",
       "      <th>UUID</th>\n",
       "      <th></th>\n",
       "      <th></th>\n",
       "      <th></th>\n",
       "      <th></th>\n",
       "      <th></th>\n",
       "      <th></th>\n",
       "      <th></th>\n",
       "      <th></th>\n",
       "      <th></th>\n",
       "      <th></th>\n",
       "      <th></th>\n",
       "      <th></th>\n",
       "      <th></th>\n",
       "      <th></th>\n",
       "      <th></th>\n",
       "      <th></th>\n",
       "      <th></th>\n",
       "      <th></th>\n",
       "      <th></th>\n",
       "      <th></th>\n",
       "      <th></th>\n",
       "      <th></th>\n",
       "    </tr>\n",
       "  </thead>\n",
       "  <tbody>\n",
       "    <tr>\n",
       "      <th rowspan=\"2\" valign=\"top\">00010ecb-cbe3-4916-9aeb-40df14b41d88</th>\n",
       "      <th>361819</th>\n",
       "      <td>370566</td>\n",
       "      <td>23943166</td>\n",
       "      <td>31</td>\n",
       "      <td>2018-05-03 14:18:17</td>\n",
       "      <td>13.867000</td>\n",
       "      <td>https://www.telenor.no/bedrift/minbedrift/beta/#/</td>\n",
       "      <td>click on \"chat\"</td>\n",
       "      <td>Norway - Oslo - Oslo</td>\n",
       "      <td>Chrome 66.0</td>\n",
       "      <td>Chrome</td>\n",
       "      <td>...</td>\n",
       "      <td>14</td>\n",
       "      <td>3</td>\n",
       "      <td>2018-05-03 14:18:03</td>\n",
       "      <td>0.233333</td>\n",
       "      <td>1</td>\n",
       "      <td>00010ecb-cbe3-4916-9aeb-40df14b41d88</td>\n",
       "      <td>42</td>\n",
       "      <td>30</td>\n",
       "      <td>2018-05-03 10:24:39</td>\n",
       "      <td>233.633333</td>\n",
       "    </tr>\n",
       "    <tr>\n",
       "      <th>361821</th>\n",
       "      <td>370568</td>\n",
       "      <td>23943166</td>\n",
       "      <td>33</td>\n",
       "      <td>2018-05-03 14:18:29</td>\n",
       "      <td>6.806000</td>\n",
       "      <td>https://www.telenor.no/bedrift/minbedrift/beta/#/</td>\n",
       "      <td>click on \"chat\"</td>\n",
       "      <td>Norway - Oslo - Oslo</td>\n",
       "      <td>Chrome 66.0</td>\n",
       "      <td>Chrome</td>\n",
       "      <td>...</td>\n",
       "      <td>14</td>\n",
       "      <td>3</td>\n",
       "      <td>2018-05-03 14:18:22</td>\n",
       "      <td>0.116667</td>\n",
       "      <td>1</td>\n",
       "      <td>00010ecb-cbe3-4916-9aeb-40df14b41d88</td>\n",
       "      <td>42</td>\n",
       "      <td>32</td>\n",
       "      <td>2018-05-03 10:24:39</td>\n",
       "      <td>233.833333</td>\n",
       "    </tr>\n",
       "    <tr>\n",
       "      <th>000b4791-ca61-4a39-a0c5-ed16132c9d7d</th>\n",
       "      <th>404329</th>\n",
       "      <td>413999</td>\n",
       "      <td>23987090</td>\n",
       "      <td>2</td>\n",
       "      <td>2018-05-04 09:05:34</td>\n",
       "      <td>5.575000</td>\n",
       "      <td>https://www.telenor.no/bedrift/minbedrift/beta/#/</td>\n",
       "      <td>click on \"chat\"</td>\n",
       "      <td>Norway - Hedmark - Hamar</td>\n",
       "      <td>NaN</td>\n",
       "      <td>NaN</td>\n",
       "      <td>...</td>\n",
       "      <td>9</td>\n",
       "      <td>4</td>\n",
       "      <td>2018-05-04 09:05:28</td>\n",
       "      <td>0.100000</td>\n",
       "      <td>2</td>\n",
       "      <td>000b4791-ca61-4a39-a0c5-ed16132c9d7d</td>\n",
       "      <td>2</td>\n",
       "      <td>1</td>\n",
       "      <td>2018-05-04 09:05:28</td>\n",
       "      <td>0.100000</td>\n",
       "    </tr>\n",
       "    <tr>\n",
       "      <th>0010bf1e-a447-4118-a391-27827adad04b</th>\n",
       "      <th>1562745</th>\n",
       "      <td>1597971</td>\n",
       "      <td>26186992</td>\n",
       "      <td>10</td>\n",
       "      <td>2018-06-19 09:06:19</td>\n",
       "      <td>351.911987</td>\n",
       "      <td>https://www.telenor.no/bedrift/minbedrift/beta...</td>\n",
       "      <td>click on \"chat\"</td>\n",
       "      <td>Norway</td>\n",
       "      <td>IE 11.0</td>\n",
       "      <td>IE</td>\n",
       "      <td>...</td>\n",
       "      <td>9</td>\n",
       "      <td>1</td>\n",
       "      <td>2018-06-19 09:00:27</td>\n",
       "      <td>5.866667</td>\n",
       "      <td>1</td>\n",
       "      <td>0010bf1e-a447-4118-a391-27827adad04b</td>\n",
       "      <td>14</td>\n",
       "      <td>9</td>\n",
       "      <td>2018-06-19 08:59:09</td>\n",
       "      <td>7.166667</td>\n",
       "    </tr>\n",
       "    <tr>\n",
       "      <th>00173c57-9282-4452-afcd-7fba9c453a81</th>\n",
       "      <th>1709336</th>\n",
       "      <td>1748363</td>\n",
       "      <td>26513923</td>\n",
       "      <td>2</td>\n",
       "      <td>2018-06-25 08:50:21</td>\n",
       "      <td>194.039993</td>\n",
       "      <td>https://www.telenor.no/bedrift/minbedrift/beta/#/</td>\n",
       "      <td>click on \"chat\"</td>\n",
       "      <td>Norway</td>\n",
       "      <td>Chrome 67.0</td>\n",
       "      <td>Chrome</td>\n",
       "      <td>...</td>\n",
       "      <td>8</td>\n",
       "      <td>0</td>\n",
       "      <td>2018-06-25 08:47:07</td>\n",
       "      <td>3.233333</td>\n",
       "      <td>1</td>\n",
       "      <td>00173c57-9282-4452-afcd-7fba9c453a81</td>\n",
       "      <td>6</td>\n",
       "      <td>1</td>\n",
       "      <td>2018-06-25 08:46:31</td>\n",
       "      <td>3.833333</td>\n",
       "    </tr>\n",
       "  </tbody>\n",
       "</table>\n",
       "<p>5 rows × 33 columns</p>\n",
       "</div>"
      ],
      "text/plain": [
       "                                              Unnamed: 0  visit_id  sequence  \\\n",
       "UUID                                                                           \n",
       "00010ecb-cbe3-4916-9aeb-40df14b41d88 361819       370566  23943166        31   \n",
       "                                     361821       370568  23943166        33   \n",
       "000b4791-ca61-4a39-a0c5-ed16132c9d7d 404329       413999  23987090         2   \n",
       "0010bf1e-a447-4118-a391-27827adad04b 1562745     1597971  26186992        10   \n",
       "00173c57-9282-4452-afcd-7fba9c453a81 1709336     1748363  26513923         2   \n",
       "\n",
       "                                                      start_time  \\\n",
       "UUID                                                               \n",
       "00010ecb-cbe3-4916-9aeb-40df14b41d88 361819  2018-05-03 14:18:17   \n",
       "                                     361821  2018-05-03 14:18:29   \n",
       "000b4791-ca61-4a39-a0c5-ed16132c9d7d 404329  2018-05-04 09:05:34   \n",
       "0010bf1e-a447-4118-a391-27827adad04b 1562745 2018-06-19 09:06:19   \n",
       "00173c57-9282-4452-afcd-7fba9c453a81 1709336 2018-06-25 08:50:21   \n",
       "\n",
       "                                              event_duration  \\\n",
       "UUID                                                           \n",
       "00010ecb-cbe3-4916-9aeb-40df14b41d88 361819        13.867000   \n",
       "                                     361821         6.806000   \n",
       "000b4791-ca61-4a39-a0c5-ed16132c9d7d 404329         5.575000   \n",
       "0010bf1e-a447-4118-a391-27827adad04b 1562745      351.911987   \n",
       "00173c57-9282-4452-afcd-7fba9c453a81 1709336      194.039993   \n",
       "\n",
       "                                                                                            url  \\\n",
       "UUID                                                                                              \n",
       "00010ecb-cbe3-4916-9aeb-40df14b41d88 361819   https://www.telenor.no/bedrift/minbedrift/beta/#/   \n",
       "                                     361821   https://www.telenor.no/bedrift/minbedrift/beta/#/   \n",
       "000b4791-ca61-4a39-a0c5-ed16132c9d7d 404329   https://www.telenor.no/bedrift/minbedrift/beta/#/   \n",
       "0010bf1e-a447-4118-a391-27827adad04b 1562745  https://www.telenor.no/bedrift/minbedrift/beta...   \n",
       "00173c57-9282-4452-afcd-7fba9c453a81 1709336  https://www.telenor.no/bedrift/minbedrift/beta/#/   \n",
       "\n",
       "                                                       action  \\\n",
       "UUID                                                            \n",
       "00010ecb-cbe3-4916-9aeb-40df14b41d88 361819   click on \"chat\"   \n",
       "                                     361821   click on \"chat\"   \n",
       "000b4791-ca61-4a39-a0c5-ed16132c9d7d 404329   click on \"chat\"   \n",
       "0010bf1e-a447-4118-a391-27827adad04b 1562745  click on \"chat\"   \n",
       "00173c57-9282-4452-afcd-7fba9c453a81 1709336  click on \"chat\"   \n",
       "\n",
       "                                                               country  \\\n",
       "UUID                                                                     \n",
       "00010ecb-cbe3-4916-9aeb-40df14b41d88 361819       Norway - Oslo - Oslo   \n",
       "                                     361821       Norway - Oslo - Oslo   \n",
       "000b4791-ca61-4a39-a0c5-ed16132c9d7d 404329   Norway - Hedmark - Hamar   \n",
       "0010bf1e-a447-4118-a391-27827adad04b 1562745                    Norway   \n",
       "00173c57-9282-4452-afcd-7fba9c453a81 1709336                    Norway   \n",
       "\n",
       "                                              user_client user_client_family  \\\n",
       "UUID                                                                           \n",
       "00010ecb-cbe3-4916-9aeb-40df14b41d88 361819   Chrome 66.0             Chrome   \n",
       "                                     361821   Chrome 66.0             Chrome   \n",
       "000b4791-ca61-4a39-a0c5-ed16132c9d7d 404329           NaN                NaN   \n",
       "0010bf1e-a447-4118-a391-27827adad04b 1562745      IE 11.0                 IE   \n",
       "00173c57-9282-4452-afcd-7fba9c453a81 1709336  Chrome 67.0             Chrome   \n",
       "\n",
       "                                                   ...        hour DOW  \\\n",
       "UUID                                               ...                   \n",
       "00010ecb-cbe3-4916-9aeb-40df14b41d88 361819        ...          14   3   \n",
       "                                     361821        ...          14   3   \n",
       "000b4791-ca61-4a39-a0c5-ed16132c9d7d 404329        ...           9   4   \n",
       "0010bf1e-a447-4118-a391-27827adad04b 1562745       ...           9   1   \n",
       "00173c57-9282-4452-afcd-7fba9c453a81 1709336       ...           8   0   \n",
       "\n",
       "                                                          lag_ts  inactivity  \\\n",
       "UUID                                                                           \n",
       "00010ecb-cbe3-4916-9aeb-40df14b41d88 361819  2018-05-03 14:18:03    0.233333   \n",
       "                                     361821  2018-05-03 14:18:22    0.116667   \n",
       "000b4791-ca61-4a39-a0c5-ed16132c9d7d 404329  2018-05-04 09:05:28    0.100000   \n",
       "0010bf1e-a447-4118-a391-27827adad04b 1562745 2018-06-19 09:00:27    5.866667   \n",
       "00173c57-9282-4452-afcd-7fba9c453a81 1709336 2018-06-25 08:47:07    3.233333   \n",
       "\n",
       "                                              tmp  \\\n",
       "UUID                                                \n",
       "00010ecb-cbe3-4916-9aeb-40df14b41d88 361819     1   \n",
       "                                     361821     1   \n",
       "000b4791-ca61-4a39-a0c5-ed16132c9d7d 404329     2   \n",
       "0010bf1e-a447-4118-a391-27827adad04b 1562745    1   \n",
       "00173c57-9282-4452-afcd-7fba9c453a81 1709336    1   \n",
       "\n",
       "                                                                              UUID  \\\n",
       "UUID                                                                                 \n",
       "00010ecb-cbe3-4916-9aeb-40df14b41d88 361819   00010ecb-cbe3-4916-9aeb-40df14b41d88   \n",
       "                                     361821   00010ecb-cbe3-4916-9aeb-40df14b41d88   \n",
       "000b4791-ca61-4a39-a0c5-ed16132c9d7d 404329   000b4791-ca61-4a39-a0c5-ed16132c9d7d   \n",
       "0010bf1e-a447-4118-a391-27827adad04b 1562745  0010bf1e-a447-4118-a391-27827adad04b   \n",
       "00173c57-9282-4452-afcd-7fba9c453a81 1709336  00173c57-9282-4452-afcd-7fba9c453a81   \n",
       "\n",
       "                                              uuid_count  sequence_2  \\\n",
       "UUID                                                                   \n",
       "00010ecb-cbe3-4916-9aeb-40df14b41d88 361819           42          30   \n",
       "                                     361821           42          32   \n",
       "000b4791-ca61-4a39-a0c5-ed16132c9d7d 404329            2           1   \n",
       "0010bf1e-a447-4118-a391-27827adad04b 1562745          14           9   \n",
       "00173c57-9282-4452-afcd-7fba9c453a81 1709336           6           1   \n",
       "\n",
       "                                              session_start_time  \\\n",
       "UUID                                                               \n",
       "00010ecb-cbe3-4916-9aeb-40df14b41d88 361819  2018-05-03 10:24:39   \n",
       "                                     361821  2018-05-03 10:24:39   \n",
       "000b4791-ca61-4a39-a0c5-ed16132c9d7d 404329  2018-05-04 09:05:28   \n",
       "0010bf1e-a447-4118-a391-27827adad04b 1562745 2018-06-19 08:59:09   \n",
       "00173c57-9282-4452-afcd-7fba9c453a81 1709336 2018-06-25 08:46:31   \n",
       "\n",
       "                                             time_since_start  \n",
       "UUID                                                           \n",
       "00010ecb-cbe3-4916-9aeb-40df14b41d88 361819        233.633333  \n",
       "                                     361821        233.833333  \n",
       "000b4791-ca61-4a39-a0c5-ed16132c9d7d 404329          0.100000  \n",
       "0010bf1e-a447-4118-a391-27827adad04b 1562745         7.166667  \n",
       "00173c57-9282-4452-afcd-7fba9c453a81 1709336         3.833333  \n",
       "\n",
       "[5 rows x 33 columns]"
      ]
     },
     "execution_count": 104,
     "metadata": {},
     "output_type": "execute_result"
    }
   ],
   "source": [
    "ch.head(5)"
   ]
  },
  {
   "cell_type": "code",
   "execution_count": 109,
   "metadata": {},
   "outputs": [
    {
     "data": {
      "image/png": "[encoded data removed]",
      "text/plain": [
       "<Figure size 432x288 with 1 Axes>"
      ]
     },
     "metadata": {},
     "output_type": "display_data"
    }
   ],
   "source": [
    "bins = np.linspace(0,ch.sequence.max(),100)\n",
    "n, bins, pathces = plt.hist(x=ch.sequence.dropna(),bins=bins,log=True,color='royalblue',edgecolor='black')\n",
    "#plt.xticks(bins)\n",
    "plt.xlabel('number of interactions before chat')\n",
    "plt.ylabel('number of interactions')\n",
    "\n",
    "plt.savefig(\"img/events_before_chat.pdf\", bbox_inches='tight')\n",
    "plt.show()"
   ]
  },
  {
   "cell_type": "code",
   "execution_count": 110,
   "metadata": {},
   "outputs": [
    {
     "data": {
      "image/png": "[encoded data removed]",
      "text/plain": [
       "<Figure size 432x288 with 1 Axes>"
      ]
     },
     "metadata": {},
     "output_type": "display_data"
    }
   ],
   "source": [
    "bins = np.linspace(0,ch.time_since_start.max(),100)\n",
    "n, bins, pathces = plt.hist(x=ch.time_since_start.dropna(),bins=bins,log=True,color='royalblue',edgecolor='black')\n",
    "plt.xlabel('time between chat and session start')\n",
    "plt.ylabel('number of interactions')\n",
    "\n",
    "plt.savefig(\"img/time_between_chat_and_session_start.pdf\", bbox_inches='tight')\n",
    "plt.show()"
   ]
  },
  {
   "cell_type": "code",
   "execution_count": 101,
   "metadata": {},
   "outputs": [
    {
     "ename": "AttributeError",
     "evalue": "'Series' object has no attribute 'minutes'",
     "output_type": "error",
     "traceback": [
      "\u001b[0;31m---------------------------------------------------------------------------\u001b[0m",
      "\u001b[0;31mAttributeError\u001b[0m                            Traceback (most recent call last)",
      "\u001b[0;32m<ipython-input-101-b8be528b7671>\u001b[0m in \u001b[0;36m<module>\u001b[0;34m()\u001b[0m\n\u001b[0;32m----> 1\u001b[0;31m \u001b[0mp\u001b[0m \u001b[0;34m=\u001b[0m \u001b[0mch\u001b[0m\u001b[0;34m[\u001b[0m\u001b[0;34m'time_since_start'\u001b[0m\u001b[0;34m]\u001b[0m\u001b[0;34m.\u001b[0m\u001b[0mminutes\u001b[0m\u001b[0;34m\u001b[0m\u001b[0;34m\u001b[0m\u001b[0m\n\u001b[0m",
      "\u001b[0;32m~/anaconda3/lib/python3.6/site-packages/pandas/core/generic.py\u001b[0m in \u001b[0;36m__getattr__\u001b[0;34m(self, name)\u001b[0m\n\u001b[1;32m   4370\u001b[0m             \u001b[0;32mif\u001b[0m \u001b[0mself\u001b[0m\u001b[0;34m.\u001b[0m\u001b[0m_info_axis\u001b[0m\u001b[0;34m.\u001b[0m\u001b[0m_can_hold_identifiers_and_holds_name\u001b[0m\u001b[0;34m(\u001b[0m\u001b[0mname\u001b[0m\u001b[0;34m)\u001b[0m\u001b[0;34m:\u001b[0m\u001b[0;34m\u001b[0m\u001b[0;34m\u001b[0m\u001b[0m\n\u001b[1;32m   4371\u001b[0m                 \u001b[0;32mreturn\u001b[0m \u001b[0mself\u001b[0m\u001b[0;34m[\u001b[0m\u001b[0mname\u001b[0m\u001b[0;34m]\u001b[0m\u001b[0;34m\u001b[0m\u001b[0;34m\u001b[0m\u001b[0m\n\u001b[0;32m-> 4372\u001b[0;31m             \u001b[0;32mreturn\u001b[0m \u001b[0mobject\u001b[0m\u001b[0;34m.\u001b[0m\u001b[0m__getattribute__\u001b[0m\u001b[0;34m(\u001b[0m\u001b[0mself\u001b[0m\u001b[0;34m,\u001b[0m \u001b[0mname\u001b[0m\u001b[0;34m)\u001b[0m\u001b[0;34m\u001b[0m\u001b[0;34m\u001b[0m\u001b[0m\n\u001b[0m\u001b[1;32m   4373\u001b[0m \u001b[0;34m\u001b[0m\u001b[0m\n\u001b[1;32m   4374\u001b[0m     \u001b[0;32mdef\u001b[0m \u001b[0m__setattr__\u001b[0m\u001b[0;34m(\u001b[0m\u001b[0mself\u001b[0m\u001b[0;34m,\u001b[0m \u001b[0mname\u001b[0m\u001b[0;34m,\u001b[0m \u001b[0mvalue\u001b[0m\u001b[0;34m)\u001b[0m\u001b[0;34m:\u001b[0m\u001b[0;34m\u001b[0m\u001b[0;34m\u001b[0m\u001b[0m\n",
      "\u001b[0;31mAttributeError\u001b[0m: 'Series' object has no attribute 'minutes'"
     ]
    }
   ],
   "source": [
    "p = ch['time_since_start'].minutes"
   ]
  },
  {
   "cell_type": "code",
   "execution_count": null,
   "metadata": {},
   "outputs": [],
   "source": []
  }
 ],
 "metadata": {
  "kernelspec": {
   "display_name": "Python 3",
   "language": "python",
   "name": "python3"
  },
  "language_info": {
   "codemirror_mode": {
    "name": "ipython",
    "version": 3
   },
   "file_extension": ".py",
   "mimetype": "text/x-python",
   "name": "python",
   "nbconvert_exporter": "python",
   "pygments_lexer": "ipython3",
   "version": "3.6.8"
  }
 },
 "nbformat": 4,
 "nbformat_minor": 2
}
