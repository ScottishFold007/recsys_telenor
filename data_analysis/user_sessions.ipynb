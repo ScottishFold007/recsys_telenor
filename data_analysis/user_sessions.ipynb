{
 "cells": [
  {
   "cell_type": "code",
   "execution_count": 1,
   "metadata": {},
   "outputs": [],
   "source": [
    "from datetime import datetime as dt\n",
    "import uuid \n",
    "import numpy as np\n",
    "import matplotlib.pyplot as plt\n",
    "import pandas as pd\n",
    "import seaborn as sns\n",
    "import pickle"
   ]
  },
  {
   "cell_type": "code",
   "execution_count": 2,
   "metadata": {},
   "outputs": [],
   "source": [
    "# sessions containing chat\n",
    "\n",
    "c = pickle.load( open( \"./chat_sessions.p\", \"rb\" ) )"
   ]
  },
  {
   "cell_type": "code",
   "execution_count": 3,
   "metadata": {},
   "outputs": [
    {
     "name": "stderr",
     "output_type": "stream",
     "text": [
      "/home/aksel/anaconda3/lib/python3.6/site-packages/ipykernel_launcher.py:1: FutureWarning: 'UUID' is both an index level and a column label.\n",
      "Defaulting to column, but this will raise an ambiguity error in a future version\n",
      "  \"\"\"Entry point for launching an IPython kernel.\n"
     ]
    },
    {
     "data": {
      "text/plain": [
       "15874"
      ]
     },
     "execution_count": 3,
     "metadata": {},
     "output_type": "execute_result"
    }
   ],
   "source": [
    "len(c.groupby('UUID'))"
   ]
  },
  {
   "cell_type": "code",
   "execution_count": 4,
   "metadata": {},
   "outputs": [],
   "source": [
    "# set of unique users who have made chat actions\n",
    "\n",
    "chat_users = set(c.user)"
   ]
  },
  {
   "cell_type": "code",
   "execution_count": 5,
   "metadata": {},
   "outputs": [
    {
     "data": {
      "text/plain": [
       "8590"
      ]
     },
     "execution_count": 5,
     "metadata": {},
     "output_type": "execute_result"
    }
   ],
   "source": [
    "len(chat_users)"
   ]
  },
  {
   "cell_type": "code",
   "execution_count": 2,
   "metadata": {},
   "outputs": [],
   "source": [
    "# all sessions\n",
    "\n",
    "df = pickle.load( open( \"./cleaned_dataset.p\", \"rb\" ) )"
   ]
  },
  {
   "cell_type": "code",
   "execution_count": 7,
   "metadata": {},
   "outputs": [],
   "source": [
    "# all users\n",
    "\n",
    "total_users = set(df.user) "
   ]
  },
  {
   "cell_type": "code",
   "execution_count": 8,
   "metadata": {},
   "outputs": [
    {
     "data": {
      "text/plain": [
       "35889"
      ]
     },
     "execution_count": 8,
     "metadata": {},
     "output_type": "execute_result"
    }
   ],
   "source": [
    "len(total_users)"
   ]
  },
  {
   "cell_type": "code",
   "execution_count": 11,
   "metadata": {},
   "outputs": [
    {
     "data": {
      "text/plain": [
       "0.23934910418233998"
      ]
     },
     "execution_count": 11,
     "metadata": {},
     "output_type": "execute_result"
    }
   ],
   "source": [
    "# number of chat users / total number of users\n",
    "\n",
    "len(chat_users) / len(total_users)"
   ]
  },
  {
   "cell_type": "code",
   "execution_count": 12,
   "metadata": {},
   "outputs": [
    {
     "name": "stderr",
     "output_type": "stream",
     "text": [
      "/home/aksel/anaconda3/lib/python3.6/site-packages/ipykernel_launcher.py:3: FutureWarning: 'UUID' is both an index level and a column label.\n",
      "Defaulting to column, but this will raise an ambiguity error in a future version\n",
      "  This is separate from the ipykernel package so we can avoid doing imports until\n"
     ]
    }
   ],
   "source": [
    "# all sessions of users who have made chat actions\n",
    "\n",
    "chatuser_sessions = df.groupby('UUID').filter(lambda g: (g.user.isin(chat_users)).any())"
   ]
  },
  {
   "cell_type": "code",
   "execution_count": 13,
   "metadata": {},
   "outputs": [
    {
     "name": "stderr",
     "output_type": "stream",
     "text": [
      "/home/aksel/anaconda3/lib/python3.6/site-packages/ipykernel_launcher.py:1: FutureWarning: 'UUID' is both an index level and a column label.\n",
      "Defaulting to column, but this will raise an ambiguity error in a future version\n",
      "  \"\"\"Entry point for launching an IPython kernel.\n"
     ]
    },
    {
     "data": {
      "text/plain": [
       "78348"
      ]
     },
     "execution_count": 13,
     "metadata": {},
     "output_type": "execute_result"
    }
   ],
   "source": [
    "len(chatuser_sessions.groupby('UUID'))"
   ]
  },
  {
   "cell_type": "code",
   "execution_count": 14,
   "metadata": {},
   "outputs": [
    {
     "name": "stderr",
     "output_type": "stream",
     "text": [
      "/home/aksel/anaconda3/lib/python3.6/site-packages/ipykernel_launcher.py:3: FutureWarning: 'UUID' is both an index level and a column label.\n",
      "Defaulting to column, but this will raise an ambiguity error in a future version\n",
      "  This is separate from the ipykernel package so we can avoid doing imports until\n"
     ]
    }
   ],
   "source": [
    "# sessions from chat users that does not contain chat\n",
    "\n",
    "n = chatuser_sessions.groupby('UUID').filter(lambda g: (g.action_cleaned != 'start_chat').all())"
   ]
  },
  {
   "cell_type": "code",
   "execution_count": 15,
   "metadata": {},
   "outputs": [
    {
     "name": "stderr",
     "output_type": "stream",
     "text": [
      "/home/aksel/anaconda3/lib/python3.6/site-packages/ipykernel_launcher.py:1: FutureWarning: 'UUID' is both an index level and a column label.\n",
      "Defaulting to column, but this will raise an ambiguity error in a future version\n",
      "  \"\"\"Entry point for launching an IPython kernel.\n"
     ]
    },
    {
     "data": {
      "text/plain": [
       "62474"
      ]
     },
     "execution_count": 15,
     "metadata": {},
     "output_type": "execute_result"
    }
   ],
   "source": [
    "len(n.groupby('UUID'))"
   ]
  },
  {
   "cell_type": "code",
   "execution_count": 16,
   "metadata": {},
   "outputs": [
    {
     "name": "stderr",
     "output_type": "stream",
     "text": [
      "/home/aksel/anaconda3/lib/python3.6/site-packages/ipykernel_launcher.py:1: FutureWarning: 'UUID' is both an index level and a column label.\n",
      "Defaulting to column, but this will raise an ambiguity error in a future version\n",
      "  \"\"\"Entry point for launching an IPython kernel.\n"
     ]
    },
    {
     "data": {
      "text/plain": [
       "78348"
      ]
     },
     "execution_count": 16,
     "metadata": {},
     "output_type": "execute_result"
    }
   ],
   "source": [
    "len(n.groupby('UUID')) + len(c.groupby('UUID'))"
   ]
  },
  {
   "cell_type": "code",
   "execution_count": 17,
   "metadata": {},
   "outputs": [
    {
     "name": "stderr",
     "output_type": "stream",
     "text": [
      "/home/aksel/anaconda3/lib/python3.6/site-packages/ipykernel_launcher.py:3: FutureWarning: 'UUID' is both an index level and a column label.\n",
      "Defaulting to column, but this will raise an ambiguity error in a future version\n",
      "  This is separate from the ipykernel package so we can avoid doing imports until\n"
     ]
    },
    {
     "data": {
      "text/plain": [
       "0.20260887323224588"
      ]
     },
     "execution_count": 17,
     "metadata": {},
     "output_type": "execute_result"
    }
   ],
   "source": [
    "# ratio of chat sessions per all sessions of users who have made chat actions\n",
    "\n",
    "len(c.groupby('UUID')) / len(chatuser_sessions.groupby('UUID'))"
   ]
  },
  {
   "cell_type": "code",
   "execution_count": 18,
   "metadata": {},
   "outputs": [
    {
     "name": "stderr",
     "output_type": "stream",
     "text": [
      "/home/aksel/anaconda3/lib/python3.6/site-packages/ipykernel_launcher.py:3: FutureWarning: 'UUID' is both an index level and a column label.\n",
      "Defaulting to column, but this will raise an ambiguity error in a future version\n",
      "  This is separate from the ipykernel package so we can avoid doing imports until\n"
     ]
    },
    {
     "data": {
      "text/plain": [
       "0.7973911267677541"
      ]
     },
     "execution_count": 18,
     "metadata": {},
     "output_type": "execute_result"
    }
   ],
   "source": [
    "# ratio of non-chat sessions per all sessions of users who have made chat actions\n",
    "\n",
    "len(n.groupby('UUID')) / len(chatuser_sessions.groupby('UUID'))"
   ]
  },
  {
   "cell_type": "code",
   "execution_count": 37,
   "metadata": {},
   "outputs": [],
   "source": [
    "# number of sessions per user in total dataset\n",
    "\n",
    "num_sessions_user = df.groupby('user')['UUID'].nunique()"
   ]
  },
  {
   "cell_type": "code",
   "execution_count": 41,
   "metadata": {},
   "outputs": [
    {
     "data": {
      "image/png": "[encoded data removed]",
      "text/plain": [
       "<Figure size 432x288 with 1 Axes>"
      ]
     },
     "metadata": {},
     "output_type": "display_data"
    }
   ],
   "source": [
    "bins = np.linspace(0,num_sessions_user.values.max(),100)\n",
    "n, bins, pathces = plt.hist(x=num_sessions_user.values,bins=bins,log=True,color='royalblue',edgecolor='black')\n",
    "#plt.xticks(bins)\n",
    "plt.xlabel('number of users')\n",
    "plt.ylabel('number of sessions')\n",
    "\n",
    "plt.savefig(\"img/num_sessions_per_user.pdf\", bbox_inches='tight')\n",
    "plt.show()"
   ]
  },
  {
   "cell_type": "code",
   "execution_count": 34,
   "metadata": {},
   "outputs": [],
   "source": [
    "# number of sessions per user for users that have made a chat action\n",
    "\n",
    "num_sessions_chat_user = chatuser_sessions.groupby('user')['UUID'].nunique()"
   ]
  },
  {
   "cell_type": "code",
   "execution_count": 42,
   "metadata": {},
   "outputs": [
    {
     "data": {
      "image/png": "[encoded data removed]",
      "text/plain": [
       "<Figure size 432x288 with 1 Axes>"
      ]
     },
     "metadata": {},
     "output_type": "display_data"
    }
   ],
   "source": [
    "bins = np.linspace(0,num_sessions_chat_user.values.max(),100)\n",
    "n, bins, pathces = plt.hist(x=num_sessions_chat_user.values,bins=bins,log=True,color='royalblue',edgecolor='black')\n",
    "#plt.xticks(bins)\n",
    "plt.xlabel('number of users')\n",
    "plt.ylabel('number of sessions')\n",
    "\n",
    "plt.savefig(\"img/num_sessions_per_chat_user.pdf\", bbox_inches='tight')\n",
    "plt.show()"
   ]
  },
  {
   "cell_type": "code",
   "execution_count": 3,
   "metadata": {
    "scrolled": true
   },
   "outputs": [
    {
     "data": {
      "text/html": [
       "<div>\n",
       "<style scoped>\n",
       "    .dataframe tbody tr th:only-of-type {\n",
       "        vertical-align: middle;\n",
       "    }\n",
       "\n",
       "    .dataframe tbody tr th {\n",
       "        vertical-align: top;\n",
       "    }\n",
       "\n",
       "    .dataframe thead th {\n",
       "        text-align: right;\n",
       "    }\n",
       "</style>\n",
       "<table border=\"1\" class=\"dataframe\">\n",
       "  <thead>\n",
       "    <tr style=\"text-align: right;\">\n",
       "      <th></th>\n",
       "      <th></th>\n",
       "      <th>Unnamed: 0</th>\n",
       "      <th>visit_id</th>\n",
       "      <th>sequence</th>\n",
       "      <th>start_time</th>\n",
       "      <th>event_duration</th>\n",
       "      <th>url</th>\n",
       "      <th>action</th>\n",
       "      <th>country</th>\n",
       "      <th>user_client</th>\n",
       "      <th>user_client_family</th>\n",
       "      <th>...</th>\n",
       "      <th>user</th>\n",
       "      <th>action_cleaned</th>\n",
       "      <th>date</th>\n",
       "      <th>hour</th>\n",
       "      <th>DOW</th>\n",
       "      <th>lag_ts</th>\n",
       "      <th>inactivity</th>\n",
       "      <th>tmp</th>\n",
       "      <th>UUID</th>\n",
       "      <th>uuid_count</th>\n",
       "    </tr>\n",
       "    <tr>\n",
       "      <th>UUID</th>\n",
       "      <th></th>\n",
       "      <th></th>\n",
       "      <th></th>\n",
       "      <th></th>\n",
       "      <th></th>\n",
       "      <th></th>\n",
       "      <th></th>\n",
       "      <th></th>\n",
       "      <th></th>\n",
       "      <th></th>\n",
       "      <th></th>\n",
       "      <th></th>\n",
       "      <th></th>\n",
       "      <th></th>\n",
       "      <th></th>\n",
       "      <th></th>\n",
       "      <th></th>\n",
       "      <th></th>\n",
       "      <th></th>\n",
       "      <th></th>\n",
       "      <th></th>\n",
       "      <th></th>\n",
       "    </tr>\n",
       "  </thead>\n",
       "  <tbody>\n",
       "    <tr>\n",
       "      <th rowspan=\"5\" valign=\"top\">00000fc9-f617-4850-b017-6e5e5cbaa0e8</th>\n",
       "      <th>179883</th>\n",
       "      <td>184378</td>\n",
       "      <td>23654356</td>\n",
       "      <td>1</td>\n",
       "      <td>2018-04-26 15:14:26</td>\n",
       "      <td>0.000000</td>\n",
       "      <td>https://www.telenor.no/bedrift/minbedrift/beta/#/</td>\n",
       "      <td>_load_</td>\n",
       "      <td>Norway - Vest-Agder - Kristiansand</td>\n",
       "      <td>Edge 15.15063</td>\n",
       "      <td>Edge</td>\n",
       "      <td>...</td>\n",
       "      <td>3391</td>\n",
       "      <td>load_homepage</td>\n",
       "      <td>2018-04-26</td>\n",
       "      <td>15</td>\n",
       "      <td>3</td>\n",
       "      <td>NaT</td>\n",
       "      <td>NaN</td>\n",
       "      <td>1</td>\n",
       "      <td>00000fc9-f617-4850-b017-6e5e5cbaa0e8</td>\n",
       "      <td>5</td>\n",
       "    </tr>\n",
       "    <tr>\n",
       "      <th>179882</th>\n",
       "      <td>184377</td>\n",
       "      <td>23654356</td>\n",
       "      <td>2</td>\n",
       "      <td>2018-04-26 15:14:43</td>\n",
       "      <td>16.816000</td>\n",
       "      <td>https://www.telenor.no/bedrift/minbedrift/beta...</td>\n",
       "      <td>click on \"Ny rapport\"</td>\n",
       "      <td>Norway - Vest-Agder - Kristiansand</td>\n",
       "      <td>Edge 15.15063</td>\n",
       "      <td>Edge</td>\n",
       "      <td>...</td>\n",
       "      <td>3391</td>\n",
       "      <td>click_on_new_report</td>\n",
       "      <td>2018-04-26</td>\n",
       "      <td>15</td>\n",
       "      <td>3</td>\n",
       "      <td>2018-04-26 15:14:26</td>\n",
       "      <td>0.283333</td>\n",
       "      <td>1</td>\n",
       "      <td>00000fc9-f617-4850-b017-6e5e5cbaa0e8</td>\n",
       "      <td>5</td>\n",
       "    </tr>\n",
       "    <tr>\n",
       "      <th>179881</th>\n",
       "      <td>184376</td>\n",
       "      <td>23654356</td>\n",
       "      <td>3</td>\n",
       "      <td>2018-04-26 15:14:47</td>\n",
       "      <td>3.665000</td>\n",
       "      <td>https://www.telenor.no/bedrift/minbedrift/beta...</td>\n",
       "      <td>click on \"Hent rapport\"</td>\n",
       "      <td>Norway - Vest-Agder - Kristiansand</td>\n",
       "      <td>Edge 15.15063</td>\n",
       "      <td>Edge</td>\n",
       "      <td>...</td>\n",
       "      <td>3391</td>\n",
       "      <td>click_on_get_report</td>\n",
       "      <td>2018-04-26</td>\n",
       "      <td>15</td>\n",
       "      <td>3</td>\n",
       "      <td>2018-04-26 15:14:43</td>\n",
       "      <td>0.066667</td>\n",
       "      <td>1</td>\n",
       "      <td>00000fc9-f617-4850-b017-6e5e5cbaa0e8</td>\n",
       "      <td>5</td>\n",
       "    </tr>\n",
       "    <tr>\n",
       "      <th>179880</th>\n",
       "      <td>184375</td>\n",
       "      <td>23654356</td>\n",
       "      <td>4</td>\n",
       "      <td>2018-04-26 15:14:48</td>\n",
       "      <td>1.699000</td>\n",
       "      <td>https://www.telenor.no/bedrift/minbedrift/beta...</td>\n",
       "      <td>click on \"company\"</td>\n",
       "      <td>Norway - Vest-Agder - Kristiansand</td>\n",
       "      <td>Edge 15.15063</td>\n",
       "      <td>Edge</td>\n",
       "      <td>...</td>\n",
       "      <td>3391</td>\n",
       "      <td>click_on_company</td>\n",
       "      <td>2018-04-26</td>\n",
       "      <td>15</td>\n",
       "      <td>3</td>\n",
       "      <td>2018-04-26 15:14:47</td>\n",
       "      <td>0.016667</td>\n",
       "      <td>1</td>\n",
       "      <td>00000fc9-f617-4850-b017-6e5e5cbaa0e8</td>\n",
       "      <td>5</td>\n",
       "    </tr>\n",
       "    <tr>\n",
       "      <th>179879</th>\n",
       "      <td>184374</td>\n",
       "      <td>23654356</td>\n",
       "      <td>5</td>\n",
       "      <td>2018-04-26 15:15:06</td>\n",
       "      <td>17.427000</td>\n",
       "      <td>https://www.telenor.no/bedrift/minbedrift/beta...</td>\n",
       "      <td>click on \"Ok\"</td>\n",
       "      <td>Norway - Vest-Agder - Kristiansand</td>\n",
       "      <td>Edge 15.15063</td>\n",
       "      <td>Edge</td>\n",
       "      <td>...</td>\n",
       "      <td>3391</td>\n",
       "      <td>click_on_confirm</td>\n",
       "      <td>2018-04-26</td>\n",
       "      <td>15</td>\n",
       "      <td>3</td>\n",
       "      <td>2018-04-26 15:14:48</td>\n",
       "      <td>0.300000</td>\n",
       "      <td>1</td>\n",
       "      <td>00000fc9-f617-4850-b017-6e5e5cbaa0e8</td>\n",
       "      <td>5</td>\n",
       "    </tr>\n",
       "    <tr>\n",
       "      <th rowspan=\"5\" valign=\"top\">00002b21-60be-4d71-a889-f0b0cb7a3e8e</th>\n",
       "      <th>1888950</th>\n",
       "      <td>1932162</td>\n",
       "      <td>26807163</td>\n",
       "      <td>1</td>\n",
       "      <td>2018-06-29 22:49:06</td>\n",
       "      <td>0.000000</td>\n",
       "      <td>https://www.telenor.no/bedrift/minbedrift/beta/#/</td>\n",
       "      <td>_load_</td>\n",
       "      <td>Norway - Hordaland - Bergen</td>\n",
       "      <td>Chrome 67.0</td>\n",
       "      <td>Chrome</td>\n",
       "      <td>...</td>\n",
       "      <td>26232</td>\n",
       "      <td>load_homepage</td>\n",
       "      <td>2018-06-29</td>\n",
       "      <td>22</td>\n",
       "      <td>4</td>\n",
       "      <td>NaT</td>\n",
       "      <td>NaN</td>\n",
       "      <td>1</td>\n",
       "      <td>00002b21-60be-4d71-a889-f0b0cb7a3e8e</td>\n",
       "      <td>5</td>\n",
       "    </tr>\n",
       "    <tr>\n",
       "      <th>1888951</th>\n",
       "      <td>1932163</td>\n",
       "      <td>26807163</td>\n",
       "      <td>2</td>\n",
       "      <td>2018-06-29 22:49:07</td>\n",
       "      <td>1.089000</td>\n",
       "      <td>https://www.telenor.no/bedrift/minbedrift/beta/#/</td>\n",
       "      <td>scroll on \"Page: https://www.telenor.no/bedrif...</td>\n",
       "      <td>Norway - Hordaland - Bergen</td>\n",
       "      <td>Chrome 67.0</td>\n",
       "      <td>Chrome</td>\n",
       "      <td>...</td>\n",
       "      <td>26232</td>\n",
       "      <td>scroll_on_homepage</td>\n",
       "      <td>2018-06-29</td>\n",
       "      <td>22</td>\n",
       "      <td>4</td>\n",
       "      <td>2018-06-29 22:49:06</td>\n",
       "      <td>0.016667</td>\n",
       "      <td>1</td>\n",
       "      <td>00002b21-60be-4d71-a889-f0b0cb7a3e8e</td>\n",
       "      <td>5</td>\n",
       "    </tr>\n",
       "    <tr>\n",
       "      <th>1888952</th>\n",
       "      <td>1932164</td>\n",
       "      <td>26807163</td>\n",
       "      <td>3</td>\n",
       "      <td>2018-06-29 22:49:37</td>\n",
       "      <td>29.895000</td>\n",
       "      <td>https://www.telenor.no/bedrift/minbedrift/beta/#/</td>\n",
       "      <td>click on \"Aksepter og fortsett\"</td>\n",
       "      <td>Norway - Hordaland - Bergen</td>\n",
       "      <td>Chrome 67.0</td>\n",
       "      <td>Chrome</td>\n",
       "      <td>...</td>\n",
       "      <td>26232</td>\n",
       "      <td>click_on_accept_continue</td>\n",
       "      <td>2018-06-29</td>\n",
       "      <td>22</td>\n",
       "      <td>4</td>\n",
       "      <td>2018-06-29 22:49:07</td>\n",
       "      <td>0.500000</td>\n",
       "      <td>1</td>\n",
       "      <td>00002b21-60be-4d71-a889-f0b0cb7a3e8e</td>\n",
       "      <td>5</td>\n",
       "    </tr>\n",
       "    <tr>\n",
       "      <th>1888953</th>\n",
       "      <td>1932165</td>\n",
       "      <td>26807163</td>\n",
       "      <td>4</td>\n",
       "      <td>2018-06-29 22:50:17</td>\n",
       "      <td>40.271999</td>\n",
       "      <td>https://www.telenor.no/bedrift/minbedrift/beta/#/</td>\n",
       "      <td>click on \"Send SMS til ansatte\"</td>\n",
       "      <td>Norway - Hordaland - Bergen</td>\n",
       "      <td>Chrome 67.0</td>\n",
       "      <td>Chrome</td>\n",
       "      <td>...</td>\n",
       "      <td>26232</td>\n",
       "      <td>send_sms_to_employees</td>\n",
       "      <td>2018-06-29</td>\n",
       "      <td>22</td>\n",
       "      <td>4</td>\n",
       "      <td>2018-06-29 22:49:37</td>\n",
       "      <td>0.666667</td>\n",
       "      <td>1</td>\n",
       "      <td>00002b21-60be-4d71-a889-f0b0cb7a3e8e</td>\n",
       "      <td>5</td>\n",
       "    </tr>\n",
       "    <tr>\n",
       "      <th>1888954</th>\n",
       "      <td>1932166</td>\n",
       "      <td>26807163</td>\n",
       "      <td>5</td>\n",
       "      <td>2018-06-29 22:50:47</td>\n",
       "      <td>29.950001</td>\n",
       "      <td>https://www.telenor.no/bedrift/minbedrift/beta/#/</td>\n",
       "      <td>click on \"Logg ut\"</td>\n",
       "      <td>Norway - Hordaland - Bergen</td>\n",
       "      <td>Chrome 67.0</td>\n",
       "      <td>Chrome</td>\n",
       "      <td>...</td>\n",
       "      <td>26232</td>\n",
       "      <td>click_log_out</td>\n",
       "      <td>2018-06-29</td>\n",
       "      <td>22</td>\n",
       "      <td>4</td>\n",
       "      <td>2018-06-29 22:50:17</td>\n",
       "      <td>0.500000</td>\n",
       "      <td>1</td>\n",
       "      <td>00002b21-60be-4d71-a889-f0b0cb7a3e8e</td>\n",
       "      <td>5</td>\n",
       "    </tr>\n",
       "  </tbody>\n",
       "</table>\n",
       "<p>10 rows × 30 columns</p>\n",
       "</div>"
      ],
      "text/plain": [
       "                                              Unnamed: 0  visit_id  sequence  \\\n",
       "UUID                                                                           \n",
       "00000fc9-f617-4850-b017-6e5e5cbaa0e8 179883       184378  23654356         1   \n",
       "                                     179882       184377  23654356         2   \n",
       "                                     179881       184376  23654356         3   \n",
       "                                     179880       184375  23654356         4   \n",
       "                                     179879       184374  23654356         5   \n",
       "00002b21-60be-4d71-a889-f0b0cb7a3e8e 1888950     1932162  26807163         1   \n",
       "                                     1888951     1932163  26807163         2   \n",
       "                                     1888952     1932164  26807163         3   \n",
       "                                     1888953     1932165  26807163         4   \n",
       "                                     1888954     1932166  26807163         5   \n",
       "\n",
       "                                                      start_time  \\\n",
       "UUID                                                               \n",
       "00000fc9-f617-4850-b017-6e5e5cbaa0e8 179883  2018-04-26 15:14:26   \n",
       "                                     179882  2018-04-26 15:14:43   \n",
       "                                     179881  2018-04-26 15:14:47   \n",
       "                                     179880  2018-04-26 15:14:48   \n",
       "                                     179879  2018-04-26 15:15:06   \n",
       "00002b21-60be-4d71-a889-f0b0cb7a3e8e 1888950 2018-06-29 22:49:06   \n",
       "                                     1888951 2018-06-29 22:49:07   \n",
       "                                     1888952 2018-06-29 22:49:37   \n",
       "                                     1888953 2018-06-29 22:50:17   \n",
       "                                     1888954 2018-06-29 22:50:47   \n",
       "\n",
       "                                              event_duration  \\\n",
       "UUID                                                           \n",
       "00000fc9-f617-4850-b017-6e5e5cbaa0e8 179883         0.000000   \n",
       "                                     179882        16.816000   \n",
       "                                     179881         3.665000   \n",
       "                                     179880         1.699000   \n",
       "                                     179879        17.427000   \n",
       "00002b21-60be-4d71-a889-f0b0cb7a3e8e 1888950        0.000000   \n",
       "                                     1888951        1.089000   \n",
       "                                     1888952       29.895000   \n",
       "                                     1888953       40.271999   \n",
       "                                     1888954       29.950001   \n",
       "\n",
       "                                                                                            url  \\\n",
       "UUID                                                                                              \n",
       "00000fc9-f617-4850-b017-6e5e5cbaa0e8 179883   https://www.telenor.no/bedrift/minbedrift/beta/#/   \n",
       "                                     179882   https://www.telenor.no/bedrift/minbedrift/beta...   \n",
       "                                     179881   https://www.telenor.no/bedrift/minbedrift/beta...   \n",
       "                                     179880   https://www.telenor.no/bedrift/minbedrift/beta...   \n",
       "                                     179879   https://www.telenor.no/bedrift/minbedrift/beta...   \n",
       "00002b21-60be-4d71-a889-f0b0cb7a3e8e 1888950  https://www.telenor.no/bedrift/minbedrift/beta/#/   \n",
       "                                     1888951  https://www.telenor.no/bedrift/minbedrift/beta/#/   \n",
       "                                     1888952  https://www.telenor.no/bedrift/minbedrift/beta/#/   \n",
       "                                     1888953  https://www.telenor.no/bedrift/minbedrift/beta/#/   \n",
       "                                     1888954  https://www.telenor.no/bedrift/minbedrift/beta/#/   \n",
       "\n",
       "                                                                                         action  \\\n",
       "UUID                                                                                              \n",
       "00000fc9-f617-4850-b017-6e5e5cbaa0e8 179883                                              _load_   \n",
       "                                     179882                               click on \"Ny rapport\"   \n",
       "                                     179881                             click on \"Hent rapport\"   \n",
       "                                     179880                                  click on \"company\"   \n",
       "                                     179879                                       click on \"Ok\"   \n",
       "00002b21-60be-4d71-a889-f0b0cb7a3e8e 1888950                                             _load_   \n",
       "                                     1888951  scroll on \"Page: https://www.telenor.no/bedrif...   \n",
       "                                     1888952                    click on \"Aksepter og fortsett\"   \n",
       "                                     1888953                    click on \"Send SMS til ansatte\"   \n",
       "                                     1888954                                 click on \"Logg ut\"   \n",
       "\n",
       "                                                                         country  \\\n",
       "UUID                                                                               \n",
       "00000fc9-f617-4850-b017-6e5e5cbaa0e8 179883   Norway - Vest-Agder - Kristiansand   \n",
       "                                     179882   Norway - Vest-Agder - Kristiansand   \n",
       "                                     179881   Norway - Vest-Agder - Kristiansand   \n",
       "                                     179880   Norway - Vest-Agder - Kristiansand   \n",
       "                                     179879   Norway - Vest-Agder - Kristiansand   \n",
       "00002b21-60be-4d71-a889-f0b0cb7a3e8e 1888950         Norway - Hordaland - Bergen   \n",
       "                                     1888951         Norway - Hordaland - Bergen   \n",
       "                                     1888952         Norway - Hordaland - Bergen   \n",
       "                                     1888953         Norway - Hordaland - Bergen   \n",
       "                                     1888954         Norway - Hordaland - Bergen   \n",
       "\n",
       "                                                user_client  \\\n",
       "UUID                                                          \n",
       "00000fc9-f617-4850-b017-6e5e5cbaa0e8 179883   Edge 15.15063   \n",
       "                                     179882   Edge 15.15063   \n",
       "                                     179881   Edge 15.15063   \n",
       "                                     179880   Edge 15.15063   \n",
       "                                     179879   Edge 15.15063   \n",
       "00002b21-60be-4d71-a889-f0b0cb7a3e8e 1888950    Chrome 67.0   \n",
       "                                     1888951    Chrome 67.0   \n",
       "                                     1888952    Chrome 67.0   \n",
       "                                     1888953    Chrome 67.0   \n",
       "                                     1888954    Chrome 67.0   \n",
       "\n",
       "                                             user_client_family    ...      \\\n",
       "UUID                                                               ...       \n",
       "00000fc9-f617-4850-b017-6e5e5cbaa0e8 179883                Edge    ...       \n",
       "                                     179882                Edge    ...       \n",
       "                                     179881                Edge    ...       \n",
       "                                     179880                Edge    ...       \n",
       "                                     179879                Edge    ...       \n",
       "00002b21-60be-4d71-a889-f0b0cb7a3e8e 1888950             Chrome    ...       \n",
       "                                     1888951             Chrome    ...       \n",
       "                                     1888952             Chrome    ...       \n",
       "                                     1888953             Chrome    ...       \n",
       "                                     1888954             Chrome    ...       \n",
       "\n",
       "                                               user            action_cleaned  \\\n",
       "UUID                                                                            \n",
       "00000fc9-f617-4850-b017-6e5e5cbaa0e8 179883    3391             load_homepage   \n",
       "                                     179882    3391       click_on_new_report   \n",
       "                                     179881    3391       click_on_get_report   \n",
       "                                     179880    3391          click_on_company   \n",
       "                                     179879    3391          click_on_confirm   \n",
       "00002b21-60be-4d71-a889-f0b0cb7a3e8e 1888950  26232             load_homepage   \n",
       "                                     1888951  26232        scroll_on_homepage   \n",
       "                                     1888952  26232  click_on_accept_continue   \n",
       "                                     1888953  26232     send_sms_to_employees   \n",
       "                                     1888954  26232             click_log_out   \n",
       "\n",
       "                                                    date  hour  DOW  \\\n",
       "UUID                                                                  \n",
       "00000fc9-f617-4850-b017-6e5e5cbaa0e8 179883   2018-04-26    15    3   \n",
       "                                     179882   2018-04-26    15    3   \n",
       "                                     179881   2018-04-26    15    3   \n",
       "                                     179880   2018-04-26    15    3   \n",
       "                                     179879   2018-04-26    15    3   \n",
       "00002b21-60be-4d71-a889-f0b0cb7a3e8e 1888950  2018-06-29    22    4   \n",
       "                                     1888951  2018-06-29    22    4   \n",
       "                                     1888952  2018-06-29    22    4   \n",
       "                                     1888953  2018-06-29    22    4   \n",
       "                                     1888954  2018-06-29    22    4   \n",
       "\n",
       "                                                          lag_ts  inactivity  \\\n",
       "UUID                                                                           \n",
       "00000fc9-f617-4850-b017-6e5e5cbaa0e8 179883                  NaT         NaN   \n",
       "                                     179882  2018-04-26 15:14:26    0.283333   \n",
       "                                     179881  2018-04-26 15:14:43    0.066667   \n",
       "                                     179880  2018-04-26 15:14:47    0.016667   \n",
       "                                     179879  2018-04-26 15:14:48    0.300000   \n",
       "00002b21-60be-4d71-a889-f0b0cb7a3e8e 1888950                 NaT         NaN   \n",
       "                                     1888951 2018-06-29 22:49:06    0.016667   \n",
       "                                     1888952 2018-06-29 22:49:07    0.500000   \n",
       "                                     1888953 2018-06-29 22:49:37    0.666667   \n",
       "                                     1888954 2018-06-29 22:50:17    0.500000   \n",
       "\n",
       "                                              tmp  \\\n",
       "UUID                                                \n",
       "00000fc9-f617-4850-b017-6e5e5cbaa0e8 179883     1   \n",
       "                                     179882     1   \n",
       "                                     179881     1   \n",
       "                                     179880     1   \n",
       "                                     179879     1   \n",
       "00002b21-60be-4d71-a889-f0b0cb7a3e8e 1888950    1   \n",
       "                                     1888951    1   \n",
       "                                     1888952    1   \n",
       "                                     1888953    1   \n",
       "                                     1888954    1   \n",
       "\n",
       "                                                                              UUID  \\\n",
       "UUID                                                                                 \n",
       "00000fc9-f617-4850-b017-6e5e5cbaa0e8 179883   00000fc9-f617-4850-b017-6e5e5cbaa0e8   \n",
       "                                     179882   00000fc9-f617-4850-b017-6e5e5cbaa0e8   \n",
       "                                     179881   00000fc9-f617-4850-b017-6e5e5cbaa0e8   \n",
       "                                     179880   00000fc9-f617-4850-b017-6e5e5cbaa0e8   \n",
       "                                     179879   00000fc9-f617-4850-b017-6e5e5cbaa0e8   \n",
       "00002b21-60be-4d71-a889-f0b0cb7a3e8e 1888950  00002b21-60be-4d71-a889-f0b0cb7a3e8e   \n",
       "                                     1888951  00002b21-60be-4d71-a889-f0b0cb7a3e8e   \n",
       "                                     1888952  00002b21-60be-4d71-a889-f0b0cb7a3e8e   \n",
       "                                     1888953  00002b21-60be-4d71-a889-f0b0cb7a3e8e   \n",
       "                                     1888954  00002b21-60be-4d71-a889-f0b0cb7a3e8e   \n",
       "\n",
       "                                             uuid_count  \n",
       "UUID                                                     \n",
       "00000fc9-f617-4850-b017-6e5e5cbaa0e8 179883           5  \n",
       "                                     179882           5  \n",
       "                                     179881           5  \n",
       "                                     179880           5  \n",
       "                                     179879           5  \n",
       "00002b21-60be-4d71-a889-f0b0cb7a3e8e 1888950          5  \n",
       "                                     1888951          5  \n",
       "                                     1888952          5  \n",
       "                                     1888953          5  \n",
       "                                     1888954          5  \n",
       "\n",
       "[10 rows x 30 columns]"
      ]
     },
     "execution_count": 3,
     "metadata": {},
     "output_type": "execute_result"
    }
   ],
   "source": [
    "df.head(10)"
   ]
  },
  {
   "cell_type": "code",
   "execution_count": null,
   "metadata": {},
   "outputs": [],
   "source": []
  }
 ],
 "metadata": {
  "kernelspec": {
   "display_name": "Python 3",
   "language": "python",
   "name": "python3"
  },
  "language_info": {
   "codemirror_mode": {
    "name": "ipython",
    "version": 3
   },
   "file_extension": ".py",
   "mimetype": "text/x-python",
   "name": "python",
   "nbconvert_exporter": "python",
   "pygments_lexer": "ipython3",
   "version": "3.6.8"
  }
 },
 "nbformat": 4,
 "nbformat_minor": 2
}
