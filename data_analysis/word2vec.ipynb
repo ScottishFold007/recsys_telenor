{
 "cells": [
  {
   "cell_type": "code",
   "execution_count": 1,
   "metadata": {},
   "outputs": [],
   "source": [
    "import gensim\n",
    "import pandas as pd\n",
    "import pickle\n",
    "\n",
    "import sys\n",
    "sys.path.insert(0, './../preprocessing')\n",
    "import session as ss"
   ]
  },
  {
   "cell_type": "code",
   "execution_count": 2,
   "metadata": {},
   "outputs": [
    {
     "name": "stdout",
     "output_type": "stream",
     "text": [
      "3465876\n",
      "num sessions 199991\n",
      "total num events 3465876\n"
     ]
    }
   ],
   "source": [
    "df = pickle.load(open(\"./../data_set.p\", \"rb\"))\n",
    "\n",
    "#cleaned data\n",
    "df = df[(df['action_cleaned']!='click_on_other')]\n",
    "\n",
    "# create session UUID\n",
    "d = ss.define_session(df)\n",
    "\n",
    "corpus = []\n",
    "for uuid, row in d.groupby('UUID'):\n",
    "    session = []\n",
    "    for a in row['action_cleaned']:\n",
    "        session.append(a)\n",
    "    corpus.append(session)\n",
    "\n",
    "total_examples = len(corpus)\n",
    "print('num sessions', total_examples)\n",
    "print('total num events',len(d))    "
   ]
  },
  {
   "cell_type": "code",
   "execution_count": 4,
   "metadata": {},
   "outputs": [
    {
     "name": "stdout",
     "output_type": "stream",
     "text": [
      "10\n",
      "11\n"
     ]
    }
   ],
   "source": [
    "loss_dict = {}\n",
    "for embedding_dim in range(10,12):\n",
    "    \n",
    "    model = gensim.models.Word2Vec(corpus, size=embedding_dim, window=3, min_count=2, workers=10,compute_loss=True)\n",
    "    model.train(corpus,total_examples=total_examples,epochs=30)\n",
    "    loss = model.get_latest_training_loss()\n",
    "    loss_dict[embedding_dim] = loss\n",
    "    print(embedding_dim)\n"
   ]
  },
  {
   "cell_type": "code",
   "execution_count": 5,
   "metadata": {},
   "outputs": [
    {
     "data": {
      "text/plain": [
       "{10: 0.0, 11: 0.0}"
      ]
     },
     "execution_count": 5,
     "metadata": {},
     "output_type": "execute_result"
    }
   ],
   "source": [
    "loss_dict"
   ]
  },
  {
   "cell_type": "code",
   "execution_count": 10,
   "metadata": {},
   "outputs": [
    {
     "data": {
      "text/plain": [
       "1.0000000693147204"
      ]
     },
     "execution_count": 10,
     "metadata": {},
     "output_type": "execute_result"
    }
   ],
   "source": [
    "2**0.0000001"
   ]
  },
  {
   "cell_type": "code",
   "execution_count": 11,
   "metadata": {},
   "outputs": [
    {
     "data": {
      "text/plain": [
       "(34981158, 103976280)"
      ]
     },
     "execution_count": 11,
     "metadata": {},
     "output_type": "execute_result"
    }
   ],
   "source": [
    "model = gensim.models.Word2Vec(corpus, size=100, window=3, min_count=2, workers=10,compute_loss=True, hs=1, negative=0)\n",
    "model.train(corpus,total_examples=total_examples,epochs=30)"
   ]
  },
  {
   "cell_type": "code",
   "execution_count": 13,
   "metadata": {},
   "outputs": [
    {
     "ename": "TypeError",
     "evalue": "accuracy() missing 1 required positional argument: 'questions'",
     "output_type": "error",
     "traceback": [
      "\u001b[0;31m---------------------------------------------------------------------------\u001b[0m",
      "\u001b[0;31mTypeError\u001b[0m                                 Traceback (most recent call last)",
      "\u001b[0;32m<ipython-input-13-9a51c9841671>\u001b[0m in \u001b[0;36m<module>\u001b[0;34m()\u001b[0m\n\u001b[0;32m----> 1\u001b[0;31m \u001b[0mmodel\u001b[0m\u001b[0;34m.\u001b[0m\u001b[0mwv\u001b[0m\u001b[0;34m.\u001b[0m\u001b[0maccuracy\u001b[0m\u001b[0;34m(\u001b[0m\u001b[0;34m)\u001b[0m\u001b[0;34m\u001b[0m\u001b[0;34m\u001b[0m\u001b[0m\n\u001b[0m",
      "\u001b[0;31mTypeError\u001b[0m: accuracy() missing 1 required positional argument: 'questions'"
     ]
    }
   ],
   "source": [
    "model.wv.accuracy()"
   ]
  },
  {
   "cell_type": "code",
   "execution_count": null,
   "metadata": {},
   "outputs": [],
   "source": []
  }
 ],
 "metadata": {
  "kernelspec": {
   "display_name": "Python 3",
   "language": "python",
   "name": "python3"
  },
  "language_info": {
   "codemirror_mode": {
    "name": "ipython",
    "version": 3
   },
   "file_extension": ".py",
   "mimetype": "text/x-python",
   "name": "python",
   "nbconvert_exporter": "python",
   "pygments_lexer": "ipython3",
   "version": "3.6.8"
  }
 },
 "nbformat": 4,
 "nbformat_minor": 2
}
