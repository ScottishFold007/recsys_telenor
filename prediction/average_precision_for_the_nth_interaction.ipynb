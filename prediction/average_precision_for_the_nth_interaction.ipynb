{
 "cells": [
  {
   "cell_type": "code",
   "execution_count": null,
   "metadata": {},
   "outputs": [],
   "source": [
    "'''\n",
    "    state_dicts = [\n",
    "        'state_dicts/long/state_dict_gru_1.pth',\n",
    "        'state_dicts/long/state_dict_gru_2.pth',\n",
    "        'state_dicts/long/state_dict_gru_3.pth'\n",
    "    ]\n",
    "    '''\n",
    "    '''\n",
    "    state_dicts = [\n",
    "        'state_dicts/long/state_dict_bigru_1.pth',\n",
    "        'state_dicts/long/state_dict_bigru_2.pth',\n",
    "        'state_dicts/long/state_dict_bigru_3.pth'\n",
    "    ]\n",
    "    ''' \n",
    "    '''\n",
    "    state_dicts = [\n",
    "        'state_dicts/long/state_dict_lstm_1.pth',\n",
    "        'state_dicts/long/state_dict_lstm_4.pth', \n",
    "        'state_dicts/long/state_dict_lstm_5.pth',\n",
    "        'state_dicts/long/state_dict_lstm_3.pth',\n",
    "        'state_dicts/long/state_dict_lstm_2.pth'\n",
    "    ]\n",
    "    '''\n",
    "    '''\n",
    "    \n",
    "    state_dicts = [\n",
    "        'state_dicts/long/state_dict_bilstm_1.pth',\n",
    "        'state_dicts/long/state_dict_bilstm_4.pth',\n",
    "        'state_dicts/long/state_dict_bilstm_2.pth',\n",
    "        'state_dicts/long/state_dict_bilstm_3.pth'\n",
    "    ]\n",
    "    '''\n",
    "    '''\n",
    "    state_dicts = [\n",
    "        'state_dicts/long/state_dict_gru_1.pth',\n",
    "        'state_dicts/long/state_dict_gru_2.pth',\n",
    "        'state_dicts/long/state_dict_gru_3.pth'\n",
    "    ]\n",
    "    '''\n",
    "    '''\n",
    "    state_dicts = [\n",
    "        'state_dicts/long/state_dict_bigru_1.pth',\n",
    "        'state_dicts/long/state_dict_bigru_2.pth',\n",
    "        'state_dicts/long/state_dict_bigru_3.pth'\n",
    "    ]\n",
    "'''"
   ]
  },
  {
   "cell_type": "code",
   "execution_count": 2,
   "metadata": {},
   "outputs": [],
   "source": [
    "import pickle\n",
    "import torch\n",
    "import torch.nn as nn\n",
    "import random\n",
    "import numpy as np\n",
    "from model import Model\n",
    "\n",
    "\n",
    "def create_dict():\n",
    "    p_dict = {}\n",
    "    for a in range(20):\n",
    "        p_dict[a] = list()\n",
    "    return p_dict\n",
    "\n",
    "def load_dataset(path):\n",
    "    d = pickle.load( open( path, \"rb\" ) )\n",
    "    return d['x_test'], d['vocab']\n",
    "\n",
    "def batches(data, batch_size):\n",
    "    \"\"\" Yields batches of sentences from 'data', ordered on length. \"\"\"\n",
    "    random.shuffle(data)\n",
    "    for i in range(0, len(data), batch_size):\n",
    "        sentences = data[i:i + batch_size]\n",
    "        sentences.sort(key=lambda l: len(l), reverse=True)\n",
    "        yield [torch.LongTensor(s) for s in sentences]\n",
    "\n",
    "def step(model, sents, device):\n",
    "    \"\"\" Performs a model inference for the given model and sentence batch.\n",
    "    Returns the model otput, total loss and target outputs. \"\"\"\n",
    "    x = nn.utils.rnn.pack_sequence([s[:-1] for s in sents])\n",
    "    y = nn.utils.rnn.pack_sequence([s[1:] for s in sents])\n",
    "    \n",
    "    if device.type == 'cuda':\n",
    "        x, y = x.cuda(), y.cuda()\n",
    "    out = model(x)\n",
    "    return out, y\n",
    "    \n",
    "def topk_accuracy(prob, target, k,p_dicts, p_dict_idx):\n",
    "    _, pred = torch.topk(input=prob, k=k, dim=1)\n",
    "    pred = pred.t()\n",
    "    correct = pred.eq(target.data.expand_as(pred))\n",
    "    single_correct_tensor = sum([c for c in correct])\n",
    "    for i,size in enumerate(target.batch_sizes):\n",
    "        if i < 20:\n",
    "            start = sum(target.batch_sizes[0:i])\n",
    "            p_i = single_correct_tensor[start:start + size]\n",
    "            p_dicts[p_dict_idx][i].extend(p_i.tolist())\n",
    "\n",
    "def test_accuracy(state_dict,data):\n",
    "    device = torch.device(\"cpu\" if not torch.cuda.is_available() else \"cuda\")\n",
    "    x_test, vocab = load_dataset(data)\n",
    "    model = Model(vocab_size=214, embedding_dim=20, hidden_dim=100, gru_layers=1, dropout=0.0)\n",
    "    batch_size = 20\n",
    "    model.load_state_dict(torch.load(state_dict),strict=False)\n",
    "    model.eval()\n",
    "    model.to(device)\n",
    "    \n",
    "    dicts = [create_dict(), create_dict(), create_dict()]\n",
    "    with torch.no_grad():\n",
    "        for sents in batches(x_test, batch_size):\n",
    "            out, y = step(model, sents, device)\n",
    "            #calc_accuracy(out,y,0)\n",
    "            topk_accuracy(prob=out,target=y,k=1,p_dicts=dicts,p_dict_idx=0)\n",
    "            topk_accuracy(prob=out,target=y,k=2,p_dicts=dicts,p_dict_idx=1)\n",
    "            topk_accuracy(prob=out,target=y,k=3,p_dicts=dicts,p_dict_idx=2)\n",
    "    \n",
    "    return dicts\n",
    "\n",
    "def roundoff(num):\n",
    "    return \"{:.5f}\".format(num)\n",
    "\n",
    "def test_run():\n",
    "    '''\n",
    "    state_dicts = [\n",
    "        'state_dicts/total/state_dict_total_gru_1.pth',\n",
    "        'state_dicts/total/state_dict_total_gru_2.pth',\n",
    "        'state_dicts/total/state_dict_total_gru_3.pth'\n",
    "    ]\n",
    "    '''\n",
    "    '''\n",
    "    state_dicts = [\n",
    "        'state_dicts/total/state_dict_total_bigru_1.pth',\n",
    "        'state_dicts/total/state_dict_total_bigru_2.pth',\n",
    "        'state_dicts/total/state_dict_total_bigru_3.pth'\n",
    "    ]\n",
    "    '''\n",
    "    '''\n",
    "    state_dicts = [\n",
    "        'state_dicts/total/state_dict_total_lstm_1.pth',\n",
    "        'state_dicts/total/state_dict_total_lstm_2.pth',\n",
    "        'state_dicts/total/state_dict_total_lstm_3.pth'\n",
    "    ]\n",
    "    '''\n",
    "    \n",
    "    state_dicts = [\n",
    "        'state_dicts/total/state_dict_total_bilstm_1.pth',\n",
    "        'state_dicts/total/state_dict_total_bilstm_2.pth',\n",
    "        'state_dicts/total/state_dict_total_bilstm_3.pth'\n",
    "    ]\n",
    "    \n",
    "    \n",
    "    \n",
    "    data = './data/prepared_dataset.p'\n",
    "    #data = './data/long.p'\n",
    "        \n",
    "    d1 = test_accuracy(state_dicts[0],data)\n",
    "    d2 = test_accuracy(state_dicts[1],data)\n",
    "    d3 = test_accuracy(state_dicts[2],data)\n",
    "    \n",
    "    print_lists = [[], [], []]\n",
    "    u = 0\n",
    "    \n",
    "    print('precision@K','standard deviation')\n",
    "    accuracy_scores = []\n",
    "    for a, b, c in zip(d1,d2,d3):\n",
    "        for j in a:\n",
    "            p_scores = [np.mean(a[j]),np.mean(b[j]),np.mean(c[j])]\n",
    "            avg = roundoff(np.mean(p_scores))\n",
    "            stdd = roundoff(np.std(p_scores))\n",
    "            latex_string = avg +' $\\pm$ ' + stdd\n",
    "            print_lists[u].append(latex_string)\n",
    "            if u == 0:\n",
    "                accuracy_scores.append(np.mean(p_scores))\n",
    "        u += 1\n",
    "    t = 1\n",
    "    for s1,s2,s3 in zip(print_lists[0],print_lists[1],print_lists[2]):\n",
    "        print(t,'&',s1,'&',s2,'&',s3,'\\\\\\\\')\n",
    "        t += 1\n",
    "    \n",
    "    pickle.dump( accuracy_scores, open( \"first_n_accuracy/total/first_n_acc_bilstm.p\", \"wb\" ) )"
   ]
  },
  {
   "cell_type": "code",
   "execution_count": 3,
   "metadata": {
    "scrolled": true
   },
   "outputs": [
    {
     "name": "stdout",
     "output_type": "stream",
     "text": [
      "Model(\n",
      "  (embedding): Embedding(214, 20)\n",
      "  (recurrent_layer): LSTM(20, 100, bidirectional=True)\n",
      "  (fully_connected): Linear(in_features=200, out_features=214, bias=True)\n",
      ")\n",
      "Model(\n",
      "  (embedding): Embedding(214, 20)\n",
      "  (recurrent_layer): LSTM(20, 100, bidirectional=True)\n",
      "  (fully_connected): Linear(in_features=200, out_features=214, bias=True)\n",
      ")\n",
      "Model(\n",
      "  (embedding): Embedding(214, 20)\n",
      "  (recurrent_layer): LSTM(20, 100, bidirectional=True)\n",
      "  (fully_connected): Linear(in_features=200, out_features=214, bias=True)\n",
      ")\n",
      "precision@K standard deviation\n",
      "precision@K standard deviation\n",
      "precision@K standard deviation\n",
      "1 & 0.93648 $\\pm$ 0.00451 & 0.94380 $\\pm$ 0.00593 & 0.95093 $\\pm$ 0.00566 \\\\\n",
      "2 & 0.93316 $\\pm$ 0.00115 & 0.95018 $\\pm$ 0.00077 & 0.96025 $\\pm$ 0.00026 \\\\\n",
      "3 & 0.93179 $\\pm$ 0.00023 & 0.94718 $\\pm$ 0.00049 & 0.95633 $\\pm$ 0.00009 \\\\\n",
      "4 & 0.93136 $\\pm$ 0.00006 & 0.94550 $\\pm$ 0.00023 & 0.95458 $\\pm$ 0.00020 \\\\\n",
      "5 & 0.93384 $\\pm$ 0.00050 & 0.94888 $\\pm$ 0.00062 & 0.95770 $\\pm$ 0.00056 \\\\\n",
      "6 & 0.93512 $\\pm$ 0.00014 & 0.94959 $\\pm$ 0.00023 & 0.95803 $\\pm$ 0.00038 \\\\\n",
      "7 & 0.93692 $\\pm$ 0.00029 & 0.95140 $\\pm$ 0.00043 & 0.96006 $\\pm$ 0.00010 \\\\\n",
      "8 & 0.94008 $\\pm$ 0.00020 & 0.95388 $\\pm$ 0.00012 & 0.96258 $\\pm$ 0.00035 \\\\\n",
      "9 & 0.94132 $\\pm$ 0.00026 & 0.95476 $\\pm$ 0.00027 & 0.96308 $\\pm$ 0.00022 \\\\\n",
      "10 & 0.94614 $\\pm$ 0.00029 & 0.95891 $\\pm$ 0.00035 & 0.96642 $\\pm$ 0.00032 \\\\\n",
      "11 & 0.94591 $\\pm$ 0.00020 & 0.95876 $\\pm$ 0.00037 & 0.96570 $\\pm$ 0.00011 \\\\\n",
      "12 & 0.94757 $\\pm$ 0.00050 & 0.95982 $\\pm$ 0.00022 & 0.96671 $\\pm$ 0.00013 \\\\\n",
      "13 & 0.95110 $\\pm$ 0.00049 & 0.96317 $\\pm$ 0.00056 & 0.96982 $\\pm$ 0.00018 \\\\\n",
      "14 & 0.95345 $\\pm$ 0.00017 & 0.96462 $\\pm$ 0.00028 & 0.97073 $\\pm$ 0.00030 \\\\\n",
      "15 & 0.95317 $\\pm$ 0.00034 & 0.96361 $\\pm$ 0.00050 & 0.96995 $\\pm$ 0.00023 \\\\\n",
      "16 & 0.95219 $\\pm$ 0.00052 & 0.96297 $\\pm$ 0.00032 & 0.96984 $\\pm$ 0.00031 \\\\\n",
      "17 & 0.95387 $\\pm$ 0.00056 & 0.96504 $\\pm$ 0.00043 & 0.97089 $\\pm$ 0.00098 \\\\\n",
      "18 & 0.95383 $\\pm$ 0.00023 & 0.96430 $\\pm$ 0.00035 & 0.97065 $\\pm$ 0.00041 \\\\\n",
      "19 & 0.95600 $\\pm$ 0.00049 & 0.96514 $\\pm$ 0.00025 & 0.97167 $\\pm$ 0.00014 \\\\\n",
      "20 & 0.96065 $\\pm$ 0.00030 & 0.97041 $\\pm$ 0.00011 & 0.97559 $\\pm$ 0.00069 \\\\\n"
     ]
    }
   ],
   "source": [
    "\n",
    "test_run()"
   ]
  },
  {
   "cell_type": "code",
   "execution_count": 4,
   "metadata": {
    "scrolled": true
   },
   "outputs": [],
   "source": [
    "first_n_acc_gru = pickle.load( open( \"first_n_accuracy/total/first_n_acc_gru.p\", \"rb\" ) )\n",
    "first_n_acc_bigru = pickle.load( open( \"first_n_accuracy/total/first_n_acc_bigru.p\", \"rb\" ) )\n",
    "first_n_acc_lstm = pickle.load( open( \"first_n_accuracy/total/first_n_acc_lstm.p\", \"rb\" ) )\n",
    "first_n_acc_bilstm = pickle.load( open( \"first_n_accuracy/total/first_n_acc_bilstm.p\", \"rb\" ) )"
   ]
  },
  {
   "cell_type": "code",
   "execution_count": 10,
   "metadata": {},
   "outputs": [],
   "source": [
    "import matplotlib.pyplot as plt\n",
    "from matplotlib.ticker import MaxNLocator\n",
    "import seaborn as sns\n",
    "sns.set_style('white')\n",
    "\n",
    "# use LaTeX fonts in the plot\n",
    "plt.rc('text', usetex=True)\n",
    "plt.rc('font', family='serif')\n",
    "\n",
    "def plot_graph(list1,list2,label1,label2,path):\n",
    "    plt.figure()\n",
    "    ax = plt.figure().gca()\n",
    "    ax.xaxis.set_major_locator(MaxNLocator(integer=True))\n",
    "\n",
    "    ax.yaxis.grid()\n",
    "    plt.yticks(np.arange(0, 1.1, step=0.1))\n",
    "\n",
    "    xr = range(1,21)\n",
    "    plt.xticks(xr)\n",
    "\n",
    "    plt.plot(xr,list1,'go-')\n",
    "    plt.plot(xr,list2,'ro-')\n",
    "\n",
    "    plt.xlabel('n')\n",
    "    plt.ylabel('precission@1')\n",
    "    plt.legend([label1,label2])\n",
    "    plt.savefig(path)\n",
    "    plt.show()\n"
   ]
  },
  {
   "cell_type": "code",
   "execution_count": 6,
   "metadata": {},
   "outputs": [
    {
     "data": {
      "text/plain": [
       "<Figure size 432x288 with 0 Axes>"
      ]
     },
     "metadata": {},
     "output_type": "display_data"
    },
    {
     "data": {
      "image/png": "[encoded data removed]",
      "text/plain": [
       "<Figure size 432x288 with 1 Axes>"
      ]
     },
     "metadata": {},
     "output_type": "display_data"
    }
   ],
   "source": [
    "plot_graph(first_n_acc_lstm,first_n_acc_bilstm,'LSTM','Bidirectional LSTM','img/first_n_acc_lstm.pdf')"
   ]
  },
  {
   "cell_type": "code",
   "execution_count": 11,
   "metadata": {},
   "outputs": [
    {
     "data": {
      "text/plain": [
       "<Figure size 432x288 with 0 Axes>"
      ]
     },
     "metadata": {},
     "output_type": "display_data"
    },
    {
     "data": {
      "image/png": "[encoded data removed]",
      "text/plain": [
       "<Figure size 432x288 with 1 Axes>"
      ]
     },
     "metadata": {},
     "output_type": "display_data"
    }
   ],
   "source": [
    "plot_graph(first_n_acc_gru,first_n_acc_bigru,'GRU','Bidirectional GRU','img/first_n_acc_gru.pdf')"
   ]
  },
  {
   "cell_type": "code",
   "execution_count": null,
   "metadata": {},
   "outputs": [],
   "source": []
  }
 ],
 "metadata": {
  "kernelspec": {
   "display_name": "Python 3",
   "language": "python",
   "name": "python3"
  },
  "language_info": {
   "codemirror_mode": {
    "name": "ipython",
    "version": 3
   },
   "file_extension": ".py",
   "mimetype": "text/x-python",
   "name": "python",
   "nbconvert_exporter": "python",
   "pygments_lexer": "ipython3",
   "version": "3.6.8"
  }
 },
 "nbformat": 4,
 "nbformat_minor": 2
}
