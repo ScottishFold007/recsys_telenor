{
 "cells": [
  {
   "cell_type": "code",
   "execution_count": 1,
   "metadata": {},
   "outputs": [],
   "source": [
    "import torch\n",
    "import torch.nn as nn\n",
    "import random\n",
    "import numpy as np\n",
    "import pickle\n",
    "from gru_model import Model"
   ]
  },
  {
   "cell_type": "code",
   "execution_count": 2,
   "metadata": {},
   "outputs": [],
   "source": [
    "def load_dataset():\n",
    "    d = pickle.load( open( \"./prepared_dataset.p\", \"rb\" ) )\n",
    "    #d = pickle.load( open( \"./data/short_sessions.p\", \"rb\" ) )\n",
    "    return d['x_test'], d['vocab']\n",
    "\n",
    "x_test, vocab = load_dataset()"
   ]
  },
  {
   "cell_type": "code",
   "execution_count": 3,
   "metadata": {},
   "outputs": [],
   "source": [
    "device = torch.device(\"cpu\" if not torch.cuda.is_available() else \"cuda\")"
   ]
  },
  {
   "cell_type": "code",
   "execution_count": 4,
   "metadata": {},
   "outputs": [],
   "source": [
    "model = Model(vocab_size=214, embedding_dim=20, hidden_dim=100, gru_layers=1, dropout=0.0).to(device)\n",
    "model.load_state_dict(torch.load('./state_dict.pth'))\n",
    "loss_func = nn.CrossEntropyLoss()"
   ]
  },
  {
   "cell_type": "code",
   "execution_count": 5,
   "metadata": {},
   "outputs": [],
   "source": [
    "def print_session(s):\n",
    "        print()\n",
    "        for i in s:\n",
    "            print(i,vocab[i])\n",
    "        print()"
   ]
  },
  {
   "cell_type": "code",
   "execution_count": 6,
   "metadata": {},
   "outputs": [],
   "source": [
    "def batches(data, batch_size):\n",
    "    \"\"\" Yields batches of sentences from 'data', ordered on length. \"\"\"\n",
    "    random.shuffle(data)\n",
    "    for i in range(0, len(data), batch_size):\n",
    "        sentences = data[i:i + batch_size]\n",
    "        sentences.sort(key=lambda l: len(l), reverse=True)\n",
    "        yield [torch.LongTensor(s) for s in sentences]\n",
    "\n",
    "def step(model, sents, loss_func, device):\n",
    "    \"\"\" Performs a model inference for the given model and sentence batch.\n",
    "    Returns the model otput, total loss and target outputs. \"\"\"\n",
    "    x = nn.utils.rnn.pack_sequence([s[:-1] for s in sents])\n",
    "    y = nn.utils.rnn.pack_sequence([s[1:] for s in sents])\n",
    "    \n",
    "    if device.type == 'cuda':\n",
    "        x, y = x.cuda(), y.cuda()\n",
    "    out = model(x)\n",
    "    return out, y\n",
    "\n",
    "def calc_accuracy(output_distribution, targets):\n",
    "    prediction = torch.argmax(output_distribution, dim=1)\n",
    "    print('prediction')\n",
    "    print_session(prediction.tolist())\n",
    "    print('targets')\n",
    "    print_session(targets.tolist())\n",
    "    num_correct_prediction = (prediction == targets).float().sum()\n",
    "    return num_correct_prediction.item()/targets.shape[0]\n",
    "\n",
    "def test_accuracy(test_data, model, loss_func, device):\n",
    "    model.eval()\n",
    "    test_accuracies = []\n",
    "    with torch.no_grad():\n",
    "        for sents in batches(test_data, 200):\n",
    "            out, y = step(model, sents, loss_func, device)\n",
    "            \n",
    "            test_accuracies.append(calc_accuracy(out,y.data))\n",
    "    print('test accuracy:',np.mean(test_accuracies))"
   ]
  },
  {
   "cell_type": "code",
   "execution_count": 11,
   "metadata": {},
   "outputs": [
    {
     "name": "stdout",
     "output_type": "stream",
     "text": [
      "prediction\n",
      "\n",
      "122 click_on_subscription\n",
      "16 click_on_confirm\n",
      "96 click_on_number_details\n",
      "170 click_log_out\n",
      "\n",
      "targets\n",
      "\n",
      "3 submit_order\n",
      "122 click_on_subscription\n",
      "166 load_homepage\n",
      "16 click_on_confirm\n",
      "\n",
      "0.0\n"
     ]
    }
   ],
   "source": [
    "test_accuracy(x_test[48:49], model, loss_func, device)"
   ]
  },
  {
   "cell_type": "code",
   "execution_count": 11,
   "metadata": {},
   "outputs": [
    {
     "name": "stdout",
     "output_type": "stream",
     "text": [
      "\n",
      "tensor(68) load_other_page\n",
      "tensor(16) click_on_confirm\n",
      "tensor(79) click_on_accept_continue\n",
      "tensor(41) scroll_on_homepage\n",
      "tensor(86) adding_additional_services\n"
     ]
    }
   ],
   "source": [
    "for x in x_test[16:17]:\n",
    "        print()\n",
    "        for i in x:\n",
    "            print(i,vocab[i])"
   ]
  },
  {
   "cell_type": "code",
   "execution_count": null,
   "metadata": {},
   "outputs": [],
   "source": []
  }
 ],
 "metadata": {
  "kernelspec": {
   "display_name": "Python 3",
   "language": "python",
   "name": "python3"
  },
  "language_info": {
   "codemirror_mode": {
    "name": "ipython",
    "version": 3
   },
   "file_extension": ".py",
   "mimetype": "text/x-python",
   "name": "python",
   "nbconvert_exporter": "python",
   "pygments_lexer": "ipython3",
   "version": "3.6.8"
  }
 },
 "nbformat": 4,
 "nbformat_minor": 2
}
