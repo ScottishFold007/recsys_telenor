{
 "cells": [
  {
   "cell_type": "code",
   "execution_count": 1,
   "metadata": {},
   "outputs": [],
   "source": [
    "import torch\n",
    "import torch.nn as nn\n",
    "import random\n",
    "import numpy as np\n",
    "import pickle\n",
    "from gru_model import Model"
   ]
  },
  {
   "cell_type": "code",
   "execution_count": 10,
   "metadata": {},
   "outputs": [],
   "source": [
    "def load_dataset():\n",
    "    d = pickle.load( open( \"./prepared_dataset.p\", \"rb\" ) )\n",
    "    return d['x_test'], d['vocab']\n",
    "\n",
    "x_test, vocab = load_dataset()"
   ]
  },
  {
   "cell_type": "code",
   "execution_count": 11,
   "metadata": {},
   "outputs": [],
   "source": [
    "device = torch.device(\"cpu\" if not torch.cuda.is_available() else \"cuda\")"
   ]
  },
  {
   "cell_type": "code",
   "execution_count": 12,
   "metadata": {},
   "outputs": [],
   "source": [
    "model = Model(len(vocab), 100, 100, 1, not '--untied', 0.0).to(device)\n",
    "model.load_state_dict(torch.load('./state_dict.pth'))\n",
    "loss_func = nn.CrossEntropyLoss()"
   ]
  },
  {
   "cell_type": "code",
   "execution_count": 13,
   "metadata": {},
   "outputs": [],
   "source": [
    "def batches(data, batch_size):\n",
    "    \"\"\" Yields batches of sentences from 'data', ordered on length. \"\"\"\n",
    "    random.shuffle(data)\n",
    "    for i in range(0, len(data), batch_size):\n",
    "        sentences = data[i:i + batch_size]\n",
    "        sentences.sort(key=lambda l: len(l), reverse=True)\n",
    "        yield [torch.LongTensor(s) for s in sentences]\n",
    "\n",
    "def step(model, sents, loss_func, device):\n",
    "    \"\"\" Performs a model inference for the given model and sentence batch.\n",
    "    Returns the model otput, total loss and target outputs. \"\"\"\n",
    "    x = nn.utils.rnn.pack_sequence([s[:-1] for s in sents])\n",
    "    y = nn.utils.rnn.pack_sequence([s[1:] for s in sents])\n",
    "    \n",
    "    print('sessions')\n",
    "    for p in sents:\n",
    "        print(p)\n",
    "    print('packed x')\n",
    "    print(x.data.tolist())\n",
    "    print('packed y')\n",
    "    print(y.data.tolist())\n",
    "    \n",
    "    if device.type == 'cuda':\n",
    "        x, y = x.cuda(), y.cuda()\n",
    "    out = model(x)\n",
    "    #F.nll_loss(out, y.data)\n",
    "    #loss = loss_func(out, y.data)\n",
    "    return out, y\n",
    "\n",
    "def calc_accuracy(output_distribution, targets):\n",
    "    prediction = torch.argmax(output_distribution, dim=1)\n",
    "    print('prediction')\n",
    "    print(prediction.tolist())\n",
    "    print('targets')\n",
    "    print(targets.tolist())\n",
    "    num_correct_prediction = (prediction == targets).float().sum()\n",
    "    return num_correct_prediction.item()/targets.shape[0]\n",
    "\n",
    "def test_accuracy(test_data, model, loss_func, device):\n",
    "    model.eval()\n",
    "    test_accuracies = []\n",
    "    with torch.no_grad():\n",
    "        for sents in batches(test_data, 100):\n",
    "            out, y = step(model, sents, loss_func, device)\n",
    "            test_accuracies.append(calc_accuracy(out,y.data))\n",
    "    print(np.mean(test_accuracies))"
   ]
  },
  {
   "cell_type": "code",
   "execution_count": 19,
   "metadata": {},
   "outputs": [
    {
     "name": "stdout",
     "output_type": "stream",
     "text": [
      "sessions\n",
      "tensor([129, 155, 176, 148, 114,  32,  96, 147,  32,  86,   5,  91,  99,  70,\n",
      "        145, 128, 106, 152,  79, 152, 147, 152, 147, 125])\n",
      "packed x\n",
      "[129, 155, 176, 148, 114, 32, 96, 147, 32, 86, 5, 91, 99, 70, 145, 128, 106, 152, 79, 152, 147, 152, 147]\n",
      "packed y\n",
      "[155, 176, 148, 114, 32, 96, 147, 32, 86, 5, 91, 99, 70, 145, 128, 106, 152, 79, 152, 147, 152, 147, 125]\n",
      "prediction\n",
      "[155, 176, 148, 114, 32, 96, 147, 32, 86, 5, 91, 99, 70, 145, 128, 106, 152, 79, 152, 147, 152, 147, 152]\n",
      "targets\n",
      "[155, 176, 148, 114, 32, 96, 147, 32, 86, 5, 91, 99, 70, 145, 128, 106, 152, 79, 152, 147, 152, 147, 125]\n",
      "0.9565217391304348\n"
     ]
    }
   ],
   "source": [
    "test_accuracy(x_test[10:11], model, loss_func, device)"
   ]
  },
  {
   "cell_type": "code",
   "execution_count": 8,
   "metadata": {},
   "outputs": [
    {
     "name": "stdout",
     "output_type": "stream",
     "text": [
      "tensor([129, 171])\n",
      "tensor([129,  50])\n"
     ]
    }
   ],
   "source": [
    "x_test.sort(key=lambda l: len(l), reverse=False)\n",
    "for x in x_test[10:12]:\n",
    "    print(x)"
   ]
  },
  {
   "cell_type": "code",
   "execution_count": 18,
   "metadata": {},
   "outputs": [
    {
     "name": "stdout",
     "output_type": "stream",
     "text": [
      "\n",
      "tensor(129) load_homepage\n",
      "tensor(155) click_on_recommendations\n",
      "tensor(176) click_on_menu_subscriptions\n",
      "tensor(148) click_on_not_relevant\n",
      "tensor(114) click_on_subscription\n",
      "tensor(32) open_invoice_account\n",
      "tensor(96) scroll_on_homepage\n",
      "tensor(147) click_on_number_details\n",
      "tensor(32) open_invoice_account\n",
      "tensor(86) click_on_agreements\n",
      "tensor(5) see_agreements\n",
      "tensor(91) click_on_agreement_detail\n",
      "tensor(99) click_on_company\n",
      "tensor(70) click_on_sim_card\n",
      "tensor(145) click_on_APIs\n",
      "tensor(128) click_on_cloud\n",
      "tensor(106) click_on_order_overview\n",
      "tensor(152) click_on_path\n",
      "tensor(79) click_on_expand\n",
      "tensor(152) click_on_path\n",
      "tensor(147) click_on_number_details\n",
      "tensor(152) click_on_path\n",
      "tensor(147) click_on_number_details\n",
      "tensor(125) click_log_out\n"
     ]
    }
   ],
   "source": [
    "for x in x_test[10:11]:\n",
    "    print()\n",
    "    for i in x:\n",
    "        print(i,vocab[i])"
   ]
  },
  {
   "cell_type": "code",
   "execution_count": null,
   "metadata": {},
   "outputs": [],
   "source": []
  }
 ],
 "metadata": {
  "kernelspec": {
   "display_name": "Python 3",
   "language": "python",
   "name": "python3"
  },
  "language_info": {
   "codemirror_mode": {
    "name": "ipython",
    "version": 3
   },
   "file_extension": ".py",
   "mimetype": "text/x-python",
   "name": "python",
   "nbconvert_exporter": "python",
   "pygments_lexer": "ipython3",
   "version": "3.6.8"
  }
 },
 "nbformat": 4,
 "nbformat_minor": 2
}
