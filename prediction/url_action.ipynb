{
 "cells": [
  {
   "cell_type": "code",
   "execution_count": 2,
   "metadata": {},
   "outputs": [],
   "source": [
    "import pickle\n",
    "import pandas as pd "
   ]
  },
  {
   "cell_type": "code",
   "execution_count": 3,
   "metadata": {},
   "outputs": [],
   "source": [
    "df = pickle.load( open( \"data_set.p\", \"rb\" ) )\n",
    "urls = df['url'].fillna('')"
   ]
  },
  {
   "cell_type": "code",
   "execution_count": 4,
   "metadata": {},
   "outputs": [],
   "source": [
    "# split on last ? and take first part of the url\n",
    "urls = urls.apply(lambda x: x.rsplit('?', 1)[0])\n",
    "\n",
    "# split on last / and take first part of the url if url contains 'subscriptions' or 'tickets' or 'admins' or 'recommendations'\n",
    "urls = urls.apply(lambda x: x.rsplit('/', 1)[0] if 'subscriptions' or 'tickets' or 'admins' or 'recommendations' in x else x) \n",
    "\n",
    "# split on last / and take first part of the url if the url is not an empty string and the last element is digit\n",
    "urls = urls.apply(lambda x: x.rsplit('/', 1)[0] if x and x[-1].isdigit() else x) "
   ]
  },
  {
   "cell_type": "code",
   "execution_count": 5,
   "metadata": {},
   "outputs": [
    {
     "data": {
      "text/plain": [
       "{'https://www.telenor.no/bedrift/minbedrift/beta/#',\n",
       " 'https://www.telenor.no/bedrift/minbedrift/beta/#/mobile',\n",
       " 'https://www.telenor.no/bedrift/minbedrift/beta/#/mobile/subscriptions'}"
      ]
     },
     "execution_count": 5,
     "metadata": {},
     "output_type": "execute_result"
    }
   ],
   "source": [
    "distinct_urls = set(urls)\n",
    "distinct_urls"
   ]
  },
  {
   "cell_type": "code",
   "execution_count": 6,
   "metadata": {},
   "outputs": [],
   "source": [
    "actions = df['action'].fillna('')\n"
   ]
  },
  {
   "cell_type": "code",
   "execution_count": 7,
   "metadata": {},
   "outputs": [
    {
     "data": {
      "text/plain": [
       "{'click on \"Fakturakontoer\"',\n",
       " 'click on \"Legg til Selskaper\"',\n",
       " 'click on \"Neste Lagre\"',\n",
       " 'click on \"Neste\"',\n",
       " 'click on \"SIM-nummer89470000170407209857StÃ¸tterPUK-kode18005334IMEI forUkjentMSISDN90177823\"',\n",
       " 'click on \"SIM-nummer89470000180409044475StÃ¸tterPUK-kode51026404IMEI for Huawei E5785Lh-22c86241803211358MSISDN...\"',\n",
       " 'click on \"SÃ¸k\"',\n",
       " 'click on \"Tvilling-SIMAktivtSist bruktUkjentInstallert iUkjent\"',\n",
       " 'keypress <RETURN> on \"search\"',\n",
       " 'keypress <S> on \"search-input ng-untouched ng-valid ng-valid-maxlength ng-dirty ng-valid-parse\"'}"
      ]
     },
     "execution_count": 7,
     "metadata": {},
     "output_type": "execute_result"
    }
   ],
   "source": [
    "distinct_actions = set(actions)\n",
    "distinct_actions"
   ]
  },
  {
   "cell_type": "code",
   "execution_count": null,
   "metadata": {},
   "outputs": [],
   "source": []
  }
 ],
 "metadata": {
  "kernelspec": {
   "display_name": "Python 3",
   "language": "python",
   "name": "python3"
  },
  "language_info": {
   "codemirror_mode": {
    "name": "ipython",
    "version": 3
   },
   "file_extension": ".py",
   "mimetype": "text/x-python",
   "name": "python",
   "nbconvert_exporter": "python",
   "pygments_lexer": "ipython3",
   "version": "3.6.5"
  }
 },
 "nbformat": 4,
 "nbformat_minor": 2
}
