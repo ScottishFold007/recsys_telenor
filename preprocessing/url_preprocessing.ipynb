{
 "cells": [
  {
   "cell_type": "code",
   "execution_count": 11,
   "metadata": {},
   "outputs": [],
   "source": [
    "from datetime import datetime as dt\n",
    "import uuid \n",
    "import numpy as np\n",
    "import matplotlib.pyplot as plt\n",
    "import pandas as pd\n",
    "import seaborn as sns\n",
    "import url_preparation as up"
   ]
  },
  {
   "cell_type": "code",
   "execution_count": 3,
   "metadata": {},
   "outputs": [],
   "source": [
    "in_path = './../../../'\n",
    "dataset = pd.read_csv(\n",
    "    in_path+'splunk_data_180918_telenor_processed.txt',  \n",
    "    encoding=\"ISO-8859-1\", \n",
    "    dtype={\n",
    "        \"user_id\": int, \n",
    "        \"visit_id\": int, \n",
    "        \"sequence\": int, \n",
    "        \"start_time\":object, \n",
    "        \"event_duration\":float,\n",
    "        \"url\":str, \n",
    "        \"action\":str, \n",
    "        \"country\":str,\n",
    "        \"user_client\":str,\n",
    "        \"user_client_family\":str,\n",
    "        \"user_experience\":str,\n",
    "        \"user_os\":str,\n",
    "        \"apdex_user_experience\":str,\n",
    "        \"bounce_rate\":float,\n",
    "        \"session_duration\":float\n",
    "    }\n",
    ")"
   ]
  },
  {
   "cell_type": "code",
   "execution_count": 4,
   "metadata": {},
   "outputs": [],
   "source": [
    "t = dataset\n",
    "t.columns = t.columns.str.replace('min_bedrift_event.','')\n",
    "t = t[~t.action.isnull()]\n",
    "\n",
    "# drop NaN actions or urls\n",
    "t = t.dropna(axis='rows', how='any',subset=['url', 'action'])\n",
    "#t = t.reset_index()"
   ]
  },
  {
   "cell_type": "code",
   "execution_count": 5,
   "metadata": {},
   "outputs": [
    {
     "data": {
      "text/plain": [
       "3605250"
      ]
     },
     "execution_count": 5,
     "metadata": {},
     "output_type": "execute_result"
    }
   ],
   "source": [
    "len(t.index)"
   ]
  },
  {
   "cell_type": "code",
   "execution_count": 9,
   "metadata": {},
   "outputs": [
    {
     "name": "stdout",
     "output_type": "stream",
     "text": [
      "original number of unique urls: 537339\n"
     ]
    }
   ],
   "source": [
    "print('original number of unique urls: %d' % len(set(t.url)))"
   ]
  },
  {
   "cell_type": "code",
   "execution_count": 39,
   "metadata": {},
   "outputs": [],
   "source": [
    " api_keywords = pd.read_csv('API_keywords.txt')['keywords']"
   ]
  },
  {
   "cell_type": "code",
   "execution_count": 46,
   "metadata": {},
   "outputs": [],
   "source": [
    "def prepare_urls(df):\n",
    "    df['url_cleaned'] = df['url']\n",
    "    for k in api_keywords:\n",
    "        df['url_cleaned'] = df['url_cleaned'].apply(lambda x: k if k in x else x)   \n",
    "    return df"
   ]
  },
  {
   "cell_type": "code",
   "execution_count": 47,
   "metadata": {},
   "outputs": [
    {
     "name": "stdout",
     "output_type": "stream",
     "text": [
      "number of unique urls after replacement: 2168\n"
     ]
    }
   ],
   "source": [
    "s = prepare_urls(t)\n",
    "print('number of unique urls after replacement: %d' % len(set(s.url_cleaned)))"
   ]
  },
  {
   "cell_type": "code",
   "execution_count": 44,
   "metadata": {},
   "outputs": [
    {
     "name": "stdout",
     "output_type": "stream",
     "text": [
      "number of replaced unique urls after replacement: 30\n"
     ]
    }
   ],
   "source": [
    "s['url_cleaned'] = s['url_cleaned'].apply(lambda x: x if x in api_keywords.values else 'other_url')    \n",
    "print('number of replaced unique urls after replacement: %d' % len(set(s.url_cleaned)))"
   ]
  },
  {
   "cell_type": "code",
   "execution_count": 45,
   "metadata": {},
   "outputs": [
    {
     "data": {
      "text/plain": [
       "0.8212592746688857"
      ]
     },
     "execution_count": 45,
     "metadata": {},
     "output_type": "execute_result"
    }
   ],
   "source": [
    "s[(s['url_cleaned']!='other_url')].shape[0]/s.shape[0]"
   ]
  },
  {
   "cell_type": "code",
   "execution_count": 35,
   "metadata": {},
   "outputs": [
    {
     "data": {
      "text/plain": [
       "{'/accessdenied',\n",
       " '/admins',\n",
       " '/fixed/accounts',\n",
       " '/fixed/locations',\n",
       " '/fixed/subscriptions',\n",
       " '/globalsearch',\n",
       " '/go-to-telenor.no',\n",
       " '/messages',\n",
       " '/mobile/accounts',\n",
       " '/mobile/agreements',\n",
       " '/mobile/agreementtypes',\n",
       " '/mobile/companies',\n",
       " '/mobile/newAgreement',\n",
       " '/mobile/newsubscription',\n",
       " '/mobile/orderhistory',\n",
       " '/mobile/recommendations',\n",
       " '/mobile/simcards',\n",
       " '/mobile/subscriptions',\n",
       " '/newadmin',\n",
       " '/others/api-services',\n",
       " '/others/bedrift',\n",
       " '/others/cloudservices',\n",
       " '/others/ordercases',\n",
       " '/others/tickets',\n",
       " '/reports/download',\n",
       " '/reports/order',\n",
       " '/reports/reporttype',\n",
       " '/unpaidinvoices',\n",
       " '/useragreement',\n",
       " 'other_url'}"
      ]
     },
     "execution_count": 35,
     "metadata": {},
     "output_type": "execute_result"
    }
   ],
   "source": [
    "url_set = set(s['url_cleaned'])\n",
    "url_set"
   ]
  },
  {
   "cell_type": "code",
   "execution_count": 49,
   "metadata": {},
   "outputs": [
    {
     "data": {
      "text/plain": [
       "0              /reports/order\n",
       "1           /reports/download\n",
       "2         /reports/reporttype\n",
       "3                     /admins\n",
       "4               /globalsearch\n",
       "5       /mobile/subscriptions\n",
       "6     /mobile/newsubscription\n",
       "7            /mobile/simcards\n",
       "8            /mobile/accounts\n",
       "9           /mobile/companies\n",
       "10     /mobile/agreementtypes\n",
       "11          /mobile/companies\n",
       "12         /mobile/agreements\n",
       "13       /mobile/newAgreement\n",
       "14       /mobile/orderhistory\n",
       "15    /mobile/recommendations\n",
       "16            /unpaidinvoices\n",
       "17       /fixed/subscriptions\n",
       "18            /fixed/accounts\n",
       "19           /fixed/locations\n",
       "20                  /newadmin\n",
       "21            /others/tickets\n",
       "22         /others/ordercases\n",
       "23       /others/api-services\n",
       "24      /others/cloudservices\n",
       "25            /others/bedrift\n",
       "26                  /messages\n",
       "27          /go-to-telenor.no\n",
       "28             /useragreement\n",
       "29              /accessdenied\n",
       "Name: keywords, dtype: object"
      ]
     },
     "execution_count": 49,
     "metadata": {},
     "output_type": "execute_result"
    }
   ],
   "source": [
    "api_keywords = pd.read_csv('API_keywords.txt')['keywords']\n",
    "api_keywords"
   ]
  },
  {
   "cell_type": "code",
   "execution_count": 38,
   "metadata": {},
   "outputs": [
    {
     "data": {
      "text/plain": [
       "array(['/mobile/newsubscription', '/mobile/subscriptions',\n",
       "       '/mobile/accounts', '/mobile/subscriptions', '/globalsearch',\n",
       "       '/newadmin', '/mobile/accounts', '/mobile/subscriptions',\n",
       "       'other_url', '/newadmin'], dtype=object)"
      ]
     },
     "execution_count": 38,
     "metadata": {},
     "output_type": "execute_result"
    }
   ],
   "source": [
    "s.url_cleaned.tail(10).values"
   ]
  },
  {
   "cell_type": "code",
   "execution_count": 50,
   "metadata": {},
   "outputs": [],
   "source": [
    "with open(\"url_api_keywords.tex\", \"w\") as f:\n",
    "    f.write(api_keywords.to_latex(index=False))"
   ]
  },
  {
   "cell_type": "code",
   "execution_count": null,
   "metadata": {},
   "outputs": [],
   "source": []
  }
 ],
 "metadata": {
  "kernelspec": {
   "display_name": "Python 3",
   "language": "python",
   "name": "python3"
  },
  "language_info": {
   "codemirror_mode": {
    "name": "ipython",
    "version": 3
   },
   "file_extension": ".py",
   "mimetype": "text/x-python",
   "name": "python",
   "nbconvert_exporter": "python",
   "pygments_lexer": "ipython3",
   "version": "3.6.8"
  }
 },
 "nbformat": 4,
 "nbformat_minor": 2
}
